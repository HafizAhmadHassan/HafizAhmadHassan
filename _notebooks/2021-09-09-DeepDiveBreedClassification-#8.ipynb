{
 "cells": [
  {
   "cell_type": "markdown",
   "id": "fd094b87",
   "metadata": {},
   "source": [
    "# 6. MultiLabel Classification Exploring APIs for Data Preperation \n",
    "> A tutorial for someone have interest we are deep diving to classification Basiaclly we have Explored Datablock ,datasets and lsitzip functionalities.\n",
    "\n",
    "- toc: true \n",
    "- badges: true\n",
    "- comments: true\n",
    "- author: Jeremy Howard Reorganised by HAFIZ AHMAD HASSAN\n",
    "- categories: [jupyter, fastai, pytorch, classification]\n"
   ]
  },
  {
   "cell_type": "markdown",
   "id": "dfdbfd3c",
   "metadata": {},
   "source": [
    "In this case typically we hace more than one label per object you can see \n",
    "\n",
    "## Fp16 to fp32 Shit?\n",
    "\n",
    "Its little bit rounding somewhat uncertaininty in gradient\n",
    "\n",
    "Computation Linear Algebra cours\n",
    "\n",
    "\n",
    "\n",
    "\n"
   ]
  },
  {
   "cell_type": "markdown",
   "id": "70abc146",
   "metadata": {},
   "source": [
    "PASCAL data set\n",
    "with csv file for labeling and column specify if its validation\n",
    "\n",
    "pd is for panda\n",
    "\n",
    "\n",
    "iloc integer location [:,0] -- print all columns\n",
    "\n",
    "a same as \n",
    "\n",
    "\n",
    "\n"
   ]
  },
  {
   "cell_type": "code",
   "execution_count": 24,
   "id": "3d53fb56",
   "metadata": {},
   "outputs": [],
   "source": [
    "#hide\n",
    "#!pip install -Uqq fastbook\n",
    "import fastbook\n",
    "fastbook.setup_book()"
   ]
  },
  {
   "cell_type": "code",
   "execution_count": 25,
   "id": "17839fdd",
   "metadata": {},
   "outputs": [],
   "source": [
    "#hide\n",
    "from fastbook import *"
   ]
  },
  {
   "cell_type": "code",
   "execution_count": 26,
   "id": "aadf54f4",
   "metadata": {},
   "outputs": [],
   "source": [
    "from fastai.vision.all import *\n",
    "path = untar_data(URLs.PASCAL_2007)"
   ]
  },
  {
   "cell_type": "markdown",
   "id": "127c8623",
   "metadata": {},
   "source": [
    "This dataset is different from the ones we have seen before, in that it is not structured by filename or folder but instead comes with a CSV (comma-separated values) file telling us what labels to use for each image. We can inspect the CSV file by reading it into a Pandas DataFrame:"
   ]
  },
  {
   "cell_type": "markdown",
   "id": "6420faad",
   "metadata": {},
   "source": [
    "It will also tell about validation\n",
    "\n",
    "dataframe is table containing rows and columns\n",
    "\n",
    "pd.head see first fews\n"
   ]
  },
  {
   "cell_type": "code",
   "execution_count": 27,
   "id": "40703463",
   "metadata": {},
   "outputs": [
    {
     "data": {
      "text/html": [
       "<div>\n",
       "<style scoped>\n",
       "    .dataframe tbody tr th:only-of-type {\n",
       "        vertical-align: middle;\n",
       "    }\n",
       "\n",
       "    .dataframe tbody tr th {\n",
       "        vertical-align: top;\n",
       "    }\n",
       "\n",
       "    .dataframe thead th {\n",
       "        text-align: right;\n",
       "    }\n",
       "</style>\n",
       "<table border=\"1\" class=\"dataframe\">\n",
       "  <thead>\n",
       "    <tr style=\"text-align: right;\">\n",
       "      <th></th>\n",
       "      <th>fname</th>\n",
       "      <th>labels</th>\n",
       "      <th>is_valid</th>\n",
       "    </tr>\n",
       "  </thead>\n",
       "  <tbody>\n",
       "    <tr>\n",
       "      <th>0</th>\n",
       "      <td>000005.jpg</td>\n",
       "      <td>chair</td>\n",
       "      <td>True</td>\n",
       "    </tr>\n",
       "    <tr>\n",
       "      <th>1</th>\n",
       "      <td>000007.jpg</td>\n",
       "      <td>car</td>\n",
       "      <td>True</td>\n",
       "    </tr>\n",
       "    <tr>\n",
       "      <th>2</th>\n",
       "      <td>000009.jpg</td>\n",
       "      <td>horse person</td>\n",
       "      <td>True</td>\n",
       "    </tr>\n",
       "    <tr>\n",
       "      <th>3</th>\n",
       "      <td>000012.jpg</td>\n",
       "      <td>car</td>\n",
       "      <td>False</td>\n",
       "    </tr>\n",
       "    <tr>\n",
       "      <th>4</th>\n",
       "      <td>000016.jpg</td>\n",
       "      <td>bicycle</td>\n",
       "      <td>True</td>\n",
       "    </tr>\n",
       "  </tbody>\n",
       "</table>\n",
       "</div>"
      ],
      "text/plain": [
       "        fname        labels  is_valid\n",
       "0  000005.jpg         chair      True\n",
       "1  000007.jpg           car      True\n",
       "2  000009.jpg  horse person      True\n",
       "3  000012.jpg           car     False\n",
       "4  000016.jpg       bicycle      True"
      ]
     },
     "execution_count": 27,
     "metadata": {},
     "output_type": "execute_result"
    }
   ],
   "source": [
    "df = pd.read_csv(path/'train.csv')\n",
    "df.head()"
   ]
  },
  {
   "cell_type": "markdown",
   "id": "a58ee71b",
   "metadata": {},
   "source": [
    "## Data Frame Methods\n"
   ]
  },
  {
   "cell_type": "markdown",
   "id": "7506d50c",
   "metadata": {},
   "source": [
    "### iloc \n",
    "\n",
    "Data frame has methods index location\n",
    "\n",
    "[ row index , Column index]\n",
    "\n",
    "if there is bunch of , coluns  you can get rid of that\n",
    "\n",
    "you can pass column name\n",
    "\n",
    "\n",
    "**Python Data Analysis** Higly recommended\n",
    "\n",
    "#### Row index "
   ]
  },
  {
   "cell_type": "code",
   "execution_count": 28,
   "id": "6db783c6",
   "metadata": {},
   "outputs": [
    {
     "data": {
      "text/plain": [
       "fname       000005.jpg\n",
       "labels           chair\n",
       "is_valid          True\n",
       "Name: 0, dtype: object"
      ]
     },
     "execution_count": 28,
     "metadata": {},
     "output_type": "execute_result"
    }
   ],
   "source": [
    "df.iloc[0,:]\n",
    "\n",
    "# \": \" is an option\n",
    "\n",
    "df.iloc[0]"
   ]
  },
  {
   "cell_type": "markdown",
   "id": "b34896e5",
   "metadata": {},
   "source": [
    "#### Column index\n",
    "two options\n",
    "1. indexing\n",
    "2. Passing column name in data frame"
   ]
  },
  {
   "cell_type": "code",
   "execution_count": 29,
   "id": "3d8fa823",
   "metadata": {},
   "outputs": [
    {
     "data": {
      "text/plain": [
       "0       000005.jpg\n",
       "1       000007.jpg\n",
       "2       000009.jpg\n",
       "3       000012.jpg\n",
       "4       000016.jpg\n",
       "           ...    \n",
       "5006    009954.jpg\n",
       "5007    009955.jpg\n",
       "5008    009958.jpg\n",
       "5009    009959.jpg\n",
       "5010    009961.jpg\n",
       "Name: fname, Length: 5011, dtype: object"
      ]
     },
     "execution_count": 29,
     "metadata": {},
     "output_type": "execute_result"
    }
   ],
   "source": [
    "df.iloc[:,0]"
   ]
  },
  {
   "cell_type": "code",
   "execution_count": 30,
   "id": "81ce4b50",
   "metadata": {},
   "outputs": [
    {
     "data": {
      "text/plain": [
       "0       000005.jpg\n",
       "1       000007.jpg\n",
       "2       000009.jpg\n",
       "3       000012.jpg\n",
       "4       000016.jpg\n",
       "           ...    \n",
       "5006    009954.jpg\n",
       "5007    009955.jpg\n",
       "5008    009958.jpg\n",
       "5009    009959.jpg\n",
       "5010    009961.jpg\n",
       "Name: fname, Length: 5011, dtype: object"
      ]
     },
     "execution_count": 30,
     "metadata": {},
     "output_type": "execute_result"
    }
   ],
   "source": [
    "df[\"fname\"]"
   ]
  },
  {
   "cell_type": "markdown",
   "id": "932bd585",
   "metadata": {},
   "source": [
    "### Creating Column"
   ]
  },
  {
   "cell_type": "code",
   "execution_count": 31,
   "id": "9d1d1861",
   "metadata": {},
   "outputs": [],
   "source": [
    "tmp_df = pd.DataFrame({\"a\":[1,2],\"b\":[3,4]})"
   ]
  },
  {
   "cell_type": "markdown",
   "id": "37fb4e11",
   "metadata": {},
   "source": [
    "### Adding Column"
   ]
  },
  {
   "cell_type": "code",
   "execution_count": 32,
   "id": "b9c6087a",
   "metadata": {},
   "outputs": [],
   "source": [
    "tmp_df['c'] = tmp_df['a']+ tmp_df['b']"
   ]
  },
  {
   "cell_type": "markdown",
   "id": "a7c20cee",
   "metadata": {},
   "source": [
    "## Book by Creator\n",
    "\n",
    "Python for data analysis"
   ]
  },
  {
   "cell_type": "code",
   "execution_count": null,
   "id": "2d10c20d",
   "metadata": {},
   "outputs": [],
   "source": []
  },
  {
   "cell_type": "code",
   "execution_count": null,
   "id": "30ab47df",
   "metadata": {},
   "outputs": [],
   "source": []
  },
  {
   "cell_type": "markdown",
   "id": "98eef7c2",
   "metadata": {},
   "source": [
    "## Constructing Data\n",
    "\n",
    "\n",
    "We talked about datablock api its  agreat way to create dataloaders\n",
    "\n",
    "Lets do it from data from\n",
    "\n",
    "\n",
    "### Dataset vs Dataloader vs list Zip\n",
    "\n",
    "#### Dataset\n",
    "\n",
    "**dataset** is an abstract idea of class\n",
    "you can index into it and get labels\n",
    "have lenght of it\n",
    "\n",
    "for example\n",
    "below is qualified\n",
    "\n",
    "this is tuple \n",
    "containes\n",
    " "
   ]
  },
  {
   "cell_type": "code",
   "execution_count": 33,
   "id": "3624a68a",
   "metadata": {},
   "outputs": [
    {
     "data": {
      "text/plain": [
       "((0, 'a'), 26)"
      ]
     },
     "execution_count": 33,
     "metadata": {},
     "output_type": "execute_result"
    }
   ],
   "source": [
    "a = list(enumerate(string.ascii_lowercase))\n",
    "a[0], len(a)"
   ]
  },
  {
   "cell_type": "markdown",
   "id": "0a5d22fb",
   "metadata": {},
   "source": [
    "#### Dataloaders\n",
    "\n",
    "When we have dataset and pass to dataloaders with particular batch size \n",
    "\n",
    "it will create mini batch\n",
    "\n",
    "it has bunch of dependent and independent elements\n",
    "\n",
    "Lets see what zip does\n",
    "its \n",
    "\n"
   ]
  },
  {
   "cell_type": "code",
   "execution_count": 34,
   "id": "8c8c70ff",
   "metadata": {},
   "outputs": [],
   "source": [
    "dl_a = DataLoader(a, batch_size =8,shuffle=True)"
   ]
  },
  {
   "cell_type": "code",
   "execution_count": 35,
   "id": "de236c6b",
   "metadata": {},
   "outputs": [
    {
     "data": {
      "text/plain": [
       "(tensor([17, 18, 10, 22,  8, 14, 20, 15]),\n",
       " ('r', 's', 'k', 'w', 'i', 'o', 'u', 'p'))"
      ]
     },
     "execution_count": 35,
     "metadata": {},
     "output_type": "execute_result"
    }
   ],
   "source": [
    "first(dl_a)"
   ]
  },
  {
   "cell_type": "markdown",
   "id": "615fce60",
   "metadata": {},
   "source": [
    "#### List zip\n",
    "\n",
    "takes one of one or more elements of dependent and independent variable and print out\n",
    "\n"
   ]
  },
  {
   "cell_type": "code",
   "execution_count": 36,
   "id": "107720a7",
   "metadata": {},
   "outputs": [
    {
     "data": {
      "text/plain": [
       "[(tensor([14, 19, 24,  3,  8,  2, 12, 16]),),\n",
       " (('o', 't', 'y', 'd', 'i', 'c', 'm', 'q'),)]"
      ]
     },
     "execution_count": 36,
     "metadata": {},
     "output_type": "execute_result"
    }
   ],
   "source": [
    "list(zip(first(dl_a)))"
   ]
  },
  {
   "cell_type": "code",
   "execution_count": 37,
   "id": "a6888c6f",
   "metadata": {},
   "outputs": [],
   "source": [
    "b=first(dl_a)"
   ]
  },
  {
   "cell_type": "code",
   "execution_count": 38,
   "id": "5377228c",
   "metadata": {},
   "outputs": [
    {
     "data": {
      "text/plain": [
       "[(tensor(12), 'm'),\n",
       " (tensor(9), 'j'),\n",
       " (tensor(20), 'u'),\n",
       " (tensor(5), 'f'),\n",
       " (tensor(25), 'z'),\n",
       " (tensor(1), 'b'),\n",
       " (tensor(19), 't'),\n",
       " (tensor(13), 'n')]"
      ]
     },
     "execution_count": 38,
     "metadata": {},
     "output_type": "execute_result"
    }
   ],
   "source": [
    "list(zip(b[0],b[1]))"
   ]
  },
  {
   "cell_type": "markdown",
   "id": "9ae46ba1",
   "metadata": {},
   "source": [
    "\n",
    "#### Python shortCut : zip\n",
    "\n",
    "since we passing all of elements of variable\n",
    "\n",
    "Star(variable) does the same\n",
    "insert into parameters\n",
    "\n",
    "What is Dataset\n",
    "\n"
   ]
  },
  {
   "cell_type": "code",
   "execution_count": 39,
   "id": "6c5cd343",
   "metadata": {},
   "outputs": [
    {
     "data": {
      "text/plain": [
       "[(tensor(12), 'm'),\n",
       " (tensor(9), 'j'),\n",
       " (tensor(20), 'u'),\n",
       " (tensor(5), 'f'),\n",
       " (tensor(25), 'z'),\n",
       " (tensor(1), 'b'),\n",
       " (tensor(19), 't'),\n",
       " (tensor(13), 'n')]"
      ]
     },
     "execution_count": 39,
     "metadata": {},
     "output_type": "execute_result"
    }
   ],
   "source": [
    "list(zip(*b))"
   ]
  },
  {
   "cell_type": "markdown",
   "id": "8d47596e",
   "metadata": {},
   "source": [
    "### Datasets \n",
    "\n",
    "its an object with training and validation dataset\n",
    "\n",
    "normally you start with file name\n",
    "\n",
    "calculate , transform your file name into image\n",
    "and looking file name assign labels\n",
    "\n",
    "\n",
    "Normally you do not start with tuple\n",
    "\n",
    "if we pass list to dataset it will return dependent variable\n"
   ]
  },
  {
   "cell_type": "code",
   "execution_count": 41,
   "id": "4b9380a8",
   "metadata": {},
   "outputs": [
    {
     "data": {
      "text/plain": [
       "('a', 26)"
      ]
     },
     "execution_count": 41,
     "metadata": {},
     "output_type": "execute_result"
    }
   ],
   "source": [
    "a = list(string.ascii_lowercase)\n",
    "a[0],len(a)"
   ]
  },
  {
   "cell_type": "markdown",
   "id": "fe6b773a",
   "metadata": {},
   "source": [
    "#### it will return us tuple\n",
    "(x,y)  it is format"
   ]
  },
  {
   "cell_type": "code",
   "execution_count": 44,
   "id": "2340ea90",
   "metadata": {},
   "outputs": [
    {
     "data": {
      "text/plain": [
       "('a',)"
      ]
     },
     "execution_count": 44,
     "metadata": {},
     "output_type": "execute_result"
    }
   ],
   "source": [
    "dss = Datasets(a)\n",
    "dss[0]"
   ]
  },
  {
   "cell_type": "markdown",
   "id": "202579a7",
   "metadata": {},
   "source": [
    "#### Take this and computer dependent and independt variable\n",
    "here is functions we use to computer independednt variable a on the and dependent with b on the end\n",
    "\n"
   ]
  },
  {
   "cell_type": "code",
   "execution_count": 45,
   "id": "6d51f50c",
   "metadata": {},
   "outputs": [],
   "source": [
    "def f1(o): return o+\"a\"\n",
    "def f2(o): return o+\"b\""
   ]
  },
  {
   "cell_type": "markdown",
   "id": "6573f65c",
   "metadata": {},
   "source": [
    "#### Transformation with Datasets\n",
    "\n",
    "We can pass lit of transformation to do"
   ]
  },
  {
   "cell_type": "code",
   "execution_count": 47,
   "id": "fee588d8",
   "metadata": {},
   "outputs": [
    {
     "data": {
      "text/plain": [
       "('aa',)"
      ]
     },
     "execution_count": 47,
     "metadata": {},
     "output_type": "execute_result"
    }
   ],
   "source": [
    "dss = Datasets(a, [[f1]])\n",
    "dss[0]"
   ]
  },
  {
   "cell_type": "code",
   "execution_count": 48,
   "id": "932f2f7e",
   "metadata": {},
   "outputs": [],
   "source": [
    "dss = Datasets(a, [[f1,f2]])\n"
   ]
  },
  {
   "cell_type": "code",
   "execution_count": 49,
   "id": "42eb3f64",
   "metadata": {},
   "outputs": [
    {
     "data": {
      "text/plain": [
       "('aab',)"
      ]
     },
     "execution_count": 49,
     "metadata": {},
     "output_type": "execute_result"
    }
   ],
   "source": [
    "dss[0]"
   ]
  },
  {
   "cell_type": "markdown",
   "id": "55f23164",
   "metadata": {},
   "source": [
    "####  List Contaning F1 and F2\n",
    "\n",
    "it will take a pass to f1 and also f2\n",
    "\n",
    "this way build up independent and depepndent varaiables in fastai\n",
    "\n",
    "**Amazing**\n",
    "\n",
    "For example \n",
    "we passed f1 as image path dependent variable and independt as filename as label"
   ]
  },
  {
   "cell_type": "code",
   "execution_count": 53,
   "id": "decadb7a",
   "metadata": {},
   "outputs": [],
   "source": [
    "dss = Datasets(a,[[f1],[f2]])"
   ]
  },
  {
   "cell_type": "code",
   "execution_count": 54,
   "id": "d55efe2f",
   "metadata": {},
   "outputs": [
    {
     "data": {
      "text/plain": [
       "('aa', 'ab')"
      ]
     },
     "execution_count": 54,
     "metadata": {},
     "output_type": "execute_result"
    }
   ],
   "source": [
    "dss[0]"
   ]
  },
  {
   "cell_type": "markdown",
   "id": "e760b744",
   "metadata": {},
   "source": [
    "#### This way create dataloaders object\n",
    "from datasets by passing datasets and batch size\n"
   ]
  },
  {
   "cell_type": "code",
   "execution_count": 55,
   "id": "65e62478",
   "metadata": {},
   "outputs": [
    {
     "data": {
      "text/plain": [
       "(('ta', 'oa', 'aa', 'ya'), ('tb', 'ob', 'ab', 'yb'))"
      ]
     },
     "execution_count": 55,
     "metadata": {},
     "output_type": "execute_result"
    }
   ],
   "source": [
    "dls = DataLoaders.from_dsets(dss,batch_size =4)\n",
    "first(dls.train)"
   ]
  },
  {
   "cell_type": "markdown",
   "id": "bc0c683c",
   "metadata": {},
   "source": [
    "## DataBlock\n",
    "Lets create empty datablock\n",
    "\n",
    "its take our dataframe\n",
    "which we remember \n",
    "\n",
    "we pass that\n",
    "\n",
    "we see\n",
    "\n",
    "datablock.datasets has created train and validation data for us"
   ]
  },
  {
   "cell_type": "code",
   "execution_count": 56,
   "id": "50ac7274",
   "metadata": {},
   "outputs": [],
   "source": [
    "dblock = DataBlock()"
   ]
  },
  {
   "cell_type": "code",
   "execution_count": 57,
   "id": "92717ddd",
   "metadata": {},
   "outputs": [],
   "source": [
    "dsets = dblock.datasets(df)"
   ]
  },
  {
   "cell_type": "code",
   "execution_count": 58,
   "id": "8011ee67",
   "metadata": {},
   "outputs": [
    {
     "data": {
      "text/plain": [
       "(4009, 1002)"
      ]
     },
     "execution_count": 58,
     "metadata": {},
     "output_type": "execute_result"
    }
   ],
   "source": [
    "len(dsets.train),len(dsets.valid)"
   ]
  },
  {
   "cell_type": "markdown",
   "id": "b653001d",
   "metadata": {},
   "source": [
    "first row is shuffled by default datablock assumed we have two things input and target\n",
    "train and valid =20 percent\n"
   ]
  },
  {
   "cell_type": "code",
   "execution_count": 59,
   "id": "1d7b3491",
   "metadata": {},
   "outputs": [
    {
     "data": {
      "text/plain": [
       "(fname       005239.jpg\n",
       " labels          person\n",
       " is_valid          True\n",
       " Name: 2621, dtype: object,\n",
       " fname       005239.jpg\n",
       " labels          person\n",
       " is_valid          True\n",
       " Name: 2621, dtype: object)"
      ]
     },
     "execution_count": 59,
     "metadata": {},
     "output_type": "execute_result"
    }
   ],
   "source": [
    "x,y = dsets.train[0]\n",
    "x,y"
   ]
  },
  {
   "cell_type": "markdown",
   "id": "50c7b049",
   "metadata": {},
   "source": [
    "independent varable and dependent check"
   ]
  },
  {
   "cell_type": "code",
   "execution_count": 61,
   "id": "9736420e",
   "metadata": {
    "scrolled": true
   },
   "outputs": [
    {
     "data": {
      "text/plain": [
       "'005239.jpg'"
      ]
     },
     "execution_count": 61,
     "metadata": {},
     "output_type": "execute_result"
    }
   ],
   "source": [
    "x[\"fname\"]"
   ]
  },
  {
   "cell_type": "markdown",
   "id": "d3c53b4f",
   "metadata": {},
   "source": [
    "#### Lamba\n",
    "its a function without name\n",
    "in our case we are saying lambda r take parameter r its gonna return fname column\n",
    "\n"
   ]
  },
  {
   "cell_type": "markdown",
   "id": "cacd18bf",
   "metadata": {},
   "source": [
    "## Summary : What I learned about Datablock\n",
    "\n",
    "1. Configure your dataset methods label and traning etc\n",
    "2. call dataset function that will handle it \n",
    "\n",
    "what if i will call dataloaders\n",
    "\n",
    "Recall in image case we did\n",
    "\n",
    "pets = Datablock (specify everything how labels to get from filename ,get_y etc...)\n",
    "\n",
    "pets.dataloaders(image path)"
   ]
  },
  {
   "cell_type": "code",
   "execution_count": 63,
   "id": "f83c1141",
   "metadata": {},
   "outputs": [],
   "source": [
    "dblock = DataBlock(get_x = lambda r: r[\"fname\"],get_y = lambda r: r[\"labels\"])\n",
    "dsets = dblock.datasets(df)\n"
   ]
  },
  {
   "cell_type": "code",
   "execution_count": 64,
   "id": "28b872c9",
   "metadata": {},
   "outputs": [
    {
     "data": {
      "text/plain": [
       "('006028.jpg', 'bicycle person')"
      ]
     },
     "execution_count": 64,
     "metadata": {},
     "output_type": "execute_result"
    }
   ],
   "source": [
    "dsets.train[0]"
   ]
  },
  {
   "cell_type": "markdown",
   "id": "d9f38b41",
   "metadata": {},
   "source": [
    "### Same Thing Again With Functions\n",
    "\n",
    "Because randomly picking differnt dataset"
   ]
  },
  {
   "cell_type": "code",
   "execution_count": 66,
   "id": "676f75ac",
   "metadata": {},
   "outputs": [
    {
     "data": {
      "text/plain": [
       "('007385.jpg', 'sofa')"
      ]
     },
     "execution_count": 66,
     "metadata": {},
     "output_type": "execute_result"
    }
   ],
   "source": [
    "def get_x(r): return r['fname']\n",
    "def get_y(r): return r['labels']\n",
    "dblock = DataBlock(get_x = get_x, get_y = get_y)\n",
    "dsets = dblock.datasets(df)\n",
    "dsets.train[0]"
   ]
  },
  {
   "cell_type": "markdown",
   "id": "fe1e414a",
   "metadata": {},
   "source": [
    "## Note\n",
    "be careful about lambda if you want to save data block to use later\n",
    "\n",
    "python dont support for lambda "
   ]
  },
  {
   "cell_type": "code",
   "execution_count": 71,
   "id": "ebba7555",
   "metadata": {},
   "outputs": [],
   "source": [
    "Path.BASE_PATH = path"
   ]
  },
  {
   "cell_type": "code",
   "execution_count": null,
   "id": "bc194cf5",
   "metadata": {},
   "outputs": [],
   "source": []
  },
  {
   "cell_type": "markdown",
   "id": "d7a074e3",
   "metadata": {},
   "source": [
    "## Lets Give the path of image \n",
    "\n",
    "Now I have images as filename here from dataframe\n",
    "\n",
    "I want to give a proper path to it\n",
    "\n",
    "and \n",
    "\n",
    "\n",
    "MultiCategory Label\n",
    "\n"
   ]
  },
  {
   "cell_type": "code",
   "execution_count": 72,
   "id": "ca9d2fcc",
   "metadata": {},
   "outputs": [
    {
     "data": {
      "text/plain": [
       "(Path('train/001930.jpg'), ['train', 'person'])"
      ]
     },
     "execution_count": 72,
     "metadata": {},
     "output_type": "execute_result"
    }
   ],
   "source": [
    "def get_x(r): return path/'train'/r['fname']\n",
    "def get_y(r): return r['labels'].split(' ')\n",
    "dblock = DataBlock(get_x = get_x, get_y = get_y)\n",
    "dsets = dblock.datasets(df)\n",
    "dsets.train[0]"
   ]
  },
  {
   "cell_type": "markdown",
   "id": "cb09629f",
   "metadata": {},
   "source": []
  },
  {
   "cell_type": "markdown",
   "id": "2ef98c75",
   "metadata": {},
   "source": [
    "### Results  : Datablock\n",
    "Independent variable  = image\n",
    "dependendt are labels long list of zero and 1s\n",
    "\n",
    "Its one hot encoding\n",
    "\n",
    "0 -- no object\n",
    "1- object present\n",
    "\n"
   ]
  },
  {
   "cell_type": "code",
   "execution_count": 73,
   "id": "67b1a3e6",
   "metadata": {},
   "outputs": [
    {
     "data": {
      "text/plain": [
       "(PILImage mode=RGB size=500x375,\n",
       " TensorMultiCategory([0., 0., 0., 0., 0., 0., 0., 0., 1., 0., 0., 0., 0., 0., 0., 0., 0., 0., 0., 1.]))"
      ]
     },
     "execution_count": 73,
     "metadata": {},
     "output_type": "execute_result"
    }
   ],
   "source": [
    "dblock = DataBlock(blocks =(ImageBlock,MultiCategoryBlock),\n",
    "                  get_x=get_x,get_y=get_y)\n",
    "dsets =dblock.datasets(df)\n",
    "dsets.train[0]\n"
   ]
  },
  {
   "cell_type": "code",
   "execution_count": null,
   "id": "085045d1",
   "metadata": {},
   "outputs": [],
   "source": []
  }
 ],
 "metadata": {
  "kernelspec": {
   "display_name": "Python 3",
   "language": "python",
   "name": "python3"
  },
  "language_info": {
   "codemirror_mode": {
    "name": "ipython",
    "version": 3
   },
   "file_extension": ".py",
   "mimetype": "text/x-python",
   "name": "python",
   "nbconvert_exporter": "python",
   "pygments_lexer": "ipython3",
   "version": "3.8.2"
  }
 },
 "nbformat": 4,
 "nbformat_minor": 5
}
