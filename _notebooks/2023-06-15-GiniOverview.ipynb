# Gini Overview

<table>
  <tr>
    <td><img src="ghtop_images/1.png" width="150"/></td>
    <td><img src="ghtop_images/2.png" width="150"/></td>
    <td><img src="ghtop_images/3.png" width="150"/></td>
    <td><img src="ghtop_images/4.png" width="150"/></td>
    <td><img src="ghtop_images/5.png" width="150"/></td>
  </tr>
  <tr>
    <td><img src="ghtop_images/6.png" width="150"/></td>
    <td><img src="ghtop_images/7.png" width="150"/></td>
    <td><img src="ghtop_images/8.png" width="150"/></td>
    <td><img src="ghtop_images/9.png" width="150"/></td>
    <td><img src="ghtop_images/10.png" width="150"/></td>
  </tr>
</table>

[![Watch on YouTube](https://img.youtube.com/vi/YOUR_VIDEO_ID/0.jpg)](https://www.youtube.com/watch?v=u4IxOk2ijSs)
