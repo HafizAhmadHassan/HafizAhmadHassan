{
 "cells": [
  {
   "cell_type": "markdown",
   "id": "752183f8",
   "metadata": {},
   "source": [
    "# Neural Network From Scratch"
   ]
  },
  {
   "cell_type": "markdown",
   "id": "77636e7e",
   "metadata": {},
   "source": [
    "# Download Dataset"
   ]
  },
  {
   "cell_type": "code",
   "execution_count": null,
   "id": "f7152601",
   "metadata": {},
   "outputs": [],
   "source": []
  },
  {
   "cell_type": "code",
   "execution_count": 1,
   "id": "0f8f2c6f",
   "metadata": {},
   "outputs": [],
   "source": [
    "#hide\n",
    "#!pip install -Uqq fastbook\n",
    "import fastbook\n",
    "fastbook.setup_book()\n",
    "\n",
    "#hide\n",
    "from fastai.vision.all import *\n",
    "from fastbook import *\n",
    "\n",
    "matplotlib.rc('image', cmap='Greys')"
   ]
  },
  {
   "cell_type": "code",
   "execution_count": 2,
   "id": "831ae56e",
   "metadata": {},
   "outputs": [],
   "source": [
    "# Using Fastai Library"
   ]
  },
  {
   "cell_type": "code",
   "execution_count": 3,
   "id": "215c09e1",
   "metadata": {},
   "outputs": [],
   "source": [
    "path = untar_data(URLs.MNIST_SAMPLE)"
   ]
  },
  {
   "cell_type": "code",
   "execution_count": 4,
   "id": "df04e34c",
   "metadata": {},
   "outputs": [
    {
     "data": {
      "text/plain": [
       "Path('/home/hassan/.fastai/data/mnist_sample')"
      ]
     },
     "execution_count": 4,
     "metadata": {},
     "output_type": "execute_result"
    }
   ],
   "source": [
    "path"
   ]
  },
  {
   "cell_type": "markdown",
   "id": "e48b6046",
   "metadata": {},
   "source": [
    "# Point to Current Directory This is on Ram"
   ]
  },
  {
   "cell_type": "code",
   "execution_count": 5,
   "id": "caa89d91",
   "metadata": {},
   "outputs": [],
   "source": [
    "Path.BASE_PATH = path"
   ]
  },
  {
   "cell_type": "markdown",
   "id": "e79088df",
   "metadata": {},
   "source": [
    "# Return Number of Counts"
   ]
  },
  {
   "cell_type": "code",
   "execution_count": 6,
   "id": "54e003bb",
   "metadata": {},
   "outputs": [
    {
     "data": {
      "text/plain": [
       "(#3) [Path('train'),Path('valid'),Path('labels.csv')]"
      ]
     },
     "execution_count": 6,
     "metadata": {},
     "output_type": "execute_result"
    }
   ],
   "source": [
    "path.ls()"
   ]
  },
  {
   "cell_type": "code",
   "execution_count": 7,
   "id": "ce24e28d",
   "metadata": {},
   "outputs": [
    {
     "data": {
      "text/plain": [
       "(#2) [Path('train/7'),Path('train/3')]"
      ]
     },
     "execution_count": 7,
     "metadata": {},
     "output_type": "execute_result"
    }
   ],
   "source": [
    "(path/'train').ls()"
   ]
  },
  {
   "cell_type": "code",
   "execution_count": 8,
   "id": "fe5c5fa1",
   "metadata": {},
   "outputs": [],
   "source": [
    "sevens = (path/'train'/'7').ls().sorted()\n",
    "threes = (path/'train'/'3').ls().sorted()\n"
   ]
  },
  {
   "cell_type": "code",
   "execution_count": 9,
   "id": "da63b779",
   "metadata": {},
   "outputs": [
    {
     "data": {
      "text/plain": [
       "(#6265) [Path('train/7/10002.png'),Path('train/7/1001.png'),Path('train/7/10014.png'),Path('train/7/10019.png'),Path('train/7/10039.png'),Path('train/7/10046.png'),Path('train/7/10050.png'),Path('train/7/10063.png'),Path('train/7/10077.png'),Path('train/7/10086.png')...]"
      ]
     },
     "execution_count": 9,
     "metadata": {},
     "output_type": "execute_result"
    }
   ],
   "source": [
    "sevens"
   ]
  },
  {
   "cell_type": "markdown",
   "id": "d391f901",
   "metadata": {},
   "source": [
    "# Differnet methods to see pic"
   ]
  },
  {
   "cell_type": "code",
   "execution_count": 10,
   "id": "31d9adb9",
   "metadata": {},
   "outputs": [
    {
     "data": {
      "image/png": "[encoded data removed]",
      "text/plain": [
       "<PIL.PngImagePlugin.PngImageFile image mode=L size=28x28 at 0x7FF0C4433220>"
      ]
     },
     "execution_count": 10,
     "metadata": {},
     "output_type": "execute_result"
    }
   ],
   "source": [
    "im3_path = threes[1]\n",
    "im3 = Image.open(im3_path)\n",
    "im3"
   ]
  },
  {
   "cell_type": "code",
   "execution_count": 11,
   "id": "4bca4b2d",
   "metadata": {},
   "outputs": [
    {
     "data": {
      "text/plain": [
       "array([[  0,   0,   0,   0,   0,   0],\n",
       "       [  0,   0,   0,   0,   0,  29],\n",
       "       [  0,   0,   0,  48, 166, 224],\n",
       "       [  0,  93, 244, 249, 253, 187],\n",
       "       [  0, 107, 253, 253, 230,  48],\n",
       "       [  0,   3,  20,  20,  15,   0]], dtype=uint8)"
      ]
     },
     "execution_count": 11,
     "metadata": {},
     "output_type": "execute_result"
    }
   ],
   "source": [
    "array(im3)[4:10,4:10]"
   ]
  },
  {
   "cell_type": "code",
   "execution_count": 12,
   "id": "6dcf3f12",
   "metadata": {},
   "outputs": [
    {
     "data": {
      "text/plain": [
       "tensor([[  0,   0,   0,   0,   0,   0],\n",
       "        [  0,   0,   0,   0,   0,  29],\n",
       "        [  0,   0,   0,  48, 166, 224],\n",
       "        [  0,  93, 244, 249, 253, 187],\n",
       "        [  0, 107, 253, 253, 230,  48],\n",
       "        [  0,   3,  20,  20,  15,   0]], dtype=torch.uint8)"
      ]
     },
     "execution_count": 12,
     "metadata": {},
     "output_type": "execute_result"
    }
   ],
   "source": [
    "tensor(im3)[4:10,4:10]"
   ]
  },
  {
   "cell_type": "code",
   "execution_count": 13,
   "id": "79e6c8d2",
   "metadata": {},
   "outputs": [
    {
     "data": {
      "text/html": [
       "<style type=\"text/css\">\n",
       "#T_c97a5_row0_col0, #T_c97a5_row0_col1, #T_c97a5_row0_col2, #T_c97a5_row0_col3, #T_c97a5_row0_col4, #T_c97a5_row0_col5, #T_c97a5_row0_col6, #T_c97a5_row0_col7, #T_c97a5_row0_col8, #T_c97a5_row0_col9, #T_c97a5_row0_col10, #T_c97a5_row0_col11, #T_c97a5_row0_col12, #T_c97a5_row0_col13, #T_c97a5_row0_col14, #T_c97a5_row0_col15, #T_c97a5_row0_col16, #T_c97a5_row0_col17, #T_c97a5_row0_col18, #T_c97a5_row1_col0, #T_c97a5_row1_col1, #T_c97a5_row1_col2, #T_c97a5_row1_col3, #T_c97a5_row1_col4, #T_c97a5_row1_col5, #T_c97a5_row1_col16, #T_c97a5_row1_col17, #T_c97a5_row1_col18, #T_c97a5_row2_col0, #T_c97a5_row2_col1, #T_c97a5_row2_col2, #T_c97a5_row2_col3, #T_c97a5_row2_col16, #T_c97a5_row2_col17, #T_c97a5_row2_col18, #T_c97a5_row3_col0, #T_c97a5_row3_col1, #T_c97a5_row3_col16, #T_c97a5_row3_col17, #T_c97a5_row3_col18, #T_c97a5_row4_col0, #T_c97a5_row4_col1, #T_c97a5_row4_col7, #T_c97a5_row4_col8, #T_c97a5_row4_col9, #T_c97a5_row4_col10, #T_c97a5_row4_col11, #T_c97a5_row4_col16, #T_c97a5_row4_col17, #T_c97a5_row4_col18, #T_c97a5_row5_col0, #T_c97a5_row5_col1, #T_c97a5_row5_col6, #T_c97a5_row5_col7, #T_c97a5_row5_col8, #T_c97a5_row5_col9, #T_c97a5_row5_col10, #T_c97a5_row5_col16, #T_c97a5_row5_col17, #T_c97a5_row5_col18, #T_c97a5_row6_col0, #T_c97a5_row6_col1, #T_c97a5_row6_col2, #T_c97a5_row6_col3, #T_c97a5_row6_col4, #T_c97a5_row6_col5, #T_c97a5_row6_col6, #T_c97a5_row6_col7, #T_c97a5_row6_col8, #T_c97a5_row6_col9, #T_c97a5_row6_col10, #T_c97a5_row6_col15, #T_c97a5_row6_col16, #T_c97a5_row6_col17, #T_c97a5_row6_col18, #T_c97a5_row7_col0, #T_c97a5_row7_col1, #T_c97a5_row7_col2, #T_c97a5_row7_col3, #T_c97a5_row7_col4, #T_c97a5_row7_col5, #T_c97a5_row7_col6, #T_c97a5_row7_col7, #T_c97a5_row7_col14, #T_c97a5_row7_col15, #T_c97a5_row7_col16, #T_c97a5_row7_col17, #T_c97a5_row7_col18, #T_c97a5_row8_col0, #T_c97a5_row8_col1, #T_c97a5_row8_col2, #T_c97a5_row8_col3, #T_c97a5_row8_col4, #T_c97a5_row8_col5, #T_c97a5_row8_col14, #T_c97a5_row8_col15, #T_c97a5_row8_col16, #T_c97a5_row8_col17, #T_c97a5_row8_col18, #T_c97a5_row9_col0, #T_c97a5_row9_col1, #T_c97a5_row9_col2, #T_c97a5_row9_col3, #T_c97a5_row9_col4, #T_c97a5_row9_col5, #T_c97a5_row9_col17, #T_c97a5_row9_col18, #T_c97a5_row10_col0, #T_c97a5_row10_col1, #T_c97a5_row10_col2, #T_c97a5_row10_col3, #T_c97a5_row10_col4, #T_c97a5_row10_col5, #T_c97a5_row10_col6, #T_c97a5_row10_col7, #T_c97a5_row10_col18 {\n",
       "  font-size: 6pt;\n",
       "  background-color: #ffffff;\n",
       "  color: #000000;\n",
       "}\n",
       "#T_c97a5_row1_col6 {\n",
       "  font-size: 6pt;\n",
       "  background-color: #efefef;\n",
       "  color: #000000;\n",
       "}\n",
       "#T_c97a5_row1_col7, #T_c97a5_row1_col14 {\n",
       "  font-size: 6pt;\n",
       "  background-color: #7c7c7c;\n",
       "  color: #f1f1f1;\n",
       "}\n",
       "#T_c97a5_row1_col8 {\n",
       "  font-size: 6pt;\n",
       "  background-color: #4a4a4a;\n",
       "  color: #f1f1f1;\n",
       "}\n",
       "#T_c97a5_row1_col9, #T_c97a5_row1_col10, #T_c97a5_row1_col11, #T_c97a5_row2_col6, #T_c97a5_row2_col7, #T_c97a5_row2_col8, #T_c97a5_row2_col12, #T_c97a5_row2_col13, #T_c97a5_row2_col14, #T_c97a5_row3_col5, #T_c97a5_row3_col13, #T_c97a5_row3_col14, #T_c97a5_row4_col2, #T_c97a5_row4_col3, #T_c97a5_row4_col4, #T_c97a5_row4_col13, #T_c97a5_row4_col14, #T_c97a5_row5_col13, #T_c97a5_row6_col12, #T_c97a5_row9_col12, #T_c97a5_row10_col12, #T_c97a5_row10_col13, #T_c97a5_row10_col14, #T_c97a5_row10_col15, #T_c97a5_row10_col16, #T_c97a5_row10_col17 {\n",
       "  font-size: 6pt;\n",
       "  background-color: #000000;\n",
       "  color: #f1f1f1;\n",
       "}\n",
       "#T_c97a5_row1_col12 {\n",
       "  font-size: 6pt;\n",
       "  background-color: #606060;\n",
       "  color: #f1f1f1;\n",
       "}\n",
       "#T_c97a5_row1_col13 {\n",
       "  font-size: 6pt;\n",
       "  background-color: #4d4d4d;\n",
       "  color: #f1f1f1;\n",
       "}\n",
       "#T_c97a5_row1_col15 {\n",
       "  font-size: 6pt;\n",
       "  background-color: #bbbbbb;\n",
       "  color: #000000;\n",
       "}\n",
       "#T_c97a5_row2_col4 {\n",
       "  font-size: 6pt;\n",
       "  background-color: #e4e4e4;\n",
       "  color: #000000;\n",
       "}\n",
       "#T_c97a5_row2_col5, #T_c97a5_row8_col7 {\n",
       "  font-size: 6pt;\n",
       "  background-color: #6b6b6b;\n",
       "  color: #f1f1f1;\n",
       "}\n",
       "#T_c97a5_row2_col9, #T_c97a5_row2_col15, #T_c97a5_row3_col15 {\n",
       "  font-size: 6pt;\n",
       "  background-color: #171717;\n",
       "  color: #f1f1f1;\n",
       "}\n",
       "#T_c97a5_row2_col10, #T_c97a5_row3_col12 {\n",
       "  font-size: 6pt;\n",
       "  background-color: #4b4b4b;\n",
       "  color: #f1f1f1;\n",
       "}\n",
       "#T_c97a5_row2_col11, #T_c97a5_row7_col11, #T_c97a5_row8_col9, #T_c97a5_row8_col11, #T_c97a5_row9_col9, #T_c97a5_row9_col11 {\n",
       "  font-size: 6pt;\n",
       "  background-color: #010101;\n",
       "  color: #f1f1f1;\n",
       "}\n",
       "#T_c97a5_row3_col2 {\n",
       "  font-size: 6pt;\n",
       "  background-color: #272727;\n",
       "  color: #f1f1f1;\n",
       "}\n",
       "#T_c97a5_row3_col3 {\n",
       "  font-size: 6pt;\n",
       "  background-color: #0a0a0a;\n",
       "  color: #f1f1f1;\n",
       "}\n",
       "#T_c97a5_row3_col4 {\n",
       "  font-size: 6pt;\n",
       "  background-color: #050505;\n",
       "  color: #f1f1f1;\n",
       "}\n",
       "#T_c97a5_row3_col6 {\n",
       "  font-size: 6pt;\n",
       "  background-color: #333333;\n",
       "  color: #f1f1f1;\n",
       "}\n",
       "#T_c97a5_row3_col7 {\n",
       "  font-size: 6pt;\n",
       "  background-color: #e6e6e6;\n",
       "  color: #000000;\n",
       "}\n",
       "#T_c97a5_row3_col8, #T_c97a5_row3_col11 {\n",
       "  font-size: 6pt;\n",
       "  background-color: #fafafa;\n",
       "  color: #000000;\n",
       "}\n",
       "#T_c97a5_row3_col9 {\n",
       "  font-size: 6pt;\n",
       "  background-color: #fbfbfb;\n",
       "  color: #000000;\n",
       "}\n",
       "#T_c97a5_row3_col10 {\n",
       "  font-size: 6pt;\n",
       "  background-color: #fdfdfd;\n",
       "  color: #000000;\n",
       "}\n",
       "#T_c97a5_row4_col5 {\n",
       "  font-size: 6pt;\n",
       "  background-color: #1b1b1b;\n",
       "  color: #f1f1f1;\n",
       "}\n",
       "#T_c97a5_row4_col6 {\n",
       "  font-size: 6pt;\n",
       "  background-color: #e0e0e0;\n",
       "  color: #000000;\n",
       "}\n",
       "#T_c97a5_row4_col12 {\n",
       "  font-size: 6pt;\n",
       "  background-color: #4e4e4e;\n",
       "  color: #f1f1f1;\n",
       "}\n",
       "#T_c97a5_row4_col15 {\n",
       "  font-size: 6pt;\n",
       "  background-color: #767676;\n",
       "  color: #f1f1f1;\n",
       "}\n",
       "#T_c97a5_row5_col2 {\n",
       "  font-size: 6pt;\n",
       "  background-color: #fcfcfc;\n",
       "  color: #000000;\n",
       "}\n",
       "#T_c97a5_row5_col3, #T_c97a5_row5_col4 {\n",
       "  font-size: 6pt;\n",
       "  background-color: #f6f6f6;\n",
       "  color: #000000;\n",
       "}\n",
       "#T_c97a5_row5_col5, #T_c97a5_row7_col8 {\n",
       "  font-size: 6pt;\n",
       "  background-color: #f8f8f8;\n",
       "  color: #000000;\n",
       "}\n",
       "#T_c97a5_row5_col11, #T_c97a5_row10_col8 {\n",
       "  font-size: 6pt;\n",
       "  background-color: #e8e8e8;\n",
       "  color: #000000;\n",
       "}\n",
       "#T_c97a5_row5_col12 {\n",
       "  font-size: 6pt;\n",
       "  background-color: #222222;\n",
       "  color: #f1f1f1;\n",
       "}\n",
       "#T_c97a5_row5_col14, #T_c97a5_row6_col13 {\n",
       "  font-size: 6pt;\n",
       "  background-color: #090909;\n",
       "  color: #f1f1f1;\n",
       "}\n",
       "#T_c97a5_row5_col15 {\n",
       "  font-size: 6pt;\n",
       "  background-color: #d0d0d0;\n",
       "  color: #000000;\n",
       "}\n",
       "#T_c97a5_row6_col11, #T_c97a5_row7_col12, #T_c97a5_row9_col7 {\n",
       "  font-size: 6pt;\n",
       "  background-color: #060606;\n",
       "  color: #f1f1f1;\n",
       "}\n",
       "#T_c97a5_row6_col14 {\n",
       "  font-size: 6pt;\n",
       "  background-color: #979797;\n",
       "  color: #f1f1f1;\n",
       "}\n",
       "#T_c97a5_row7_col9 {\n",
       "  font-size: 6pt;\n",
       "  background-color: #b6b6b6;\n",
       "  color: #000000;\n",
       "}\n",
       "#T_c97a5_row7_col10 {\n",
       "  font-size: 6pt;\n",
       "  background-color: #252525;\n",
       "  color: #f1f1f1;\n",
       "}\n",
       "#T_c97a5_row7_col13 {\n",
       "  font-size: 6pt;\n",
       "  background-color: #999999;\n",
       "  color: #f1f1f1;\n",
       "}\n",
       "#T_c97a5_row8_col6 {\n",
       "  font-size: 6pt;\n",
       "  background-color: #f9f9f9;\n",
       "  color: #000000;\n",
       "}\n",
       "#T_c97a5_row8_col8 {\n",
       "  font-size: 6pt;\n",
       "  background-color: #101010;\n",
       "  color: #f1f1f1;\n",
       "}\n",
       "#T_c97a5_row8_col10, #T_c97a5_row9_col10 {\n",
       "  font-size: 6pt;\n",
       "  background-color: #020202;\n",
       "  color: #f1f1f1;\n",
       "}\n",
       "#T_c97a5_row8_col12 {\n",
       "  font-size: 6pt;\n",
       "  background-color: #545454;\n",
       "  color: #f1f1f1;\n",
       "}\n",
       "#T_c97a5_row8_col13 {\n",
       "  font-size: 6pt;\n",
       "  background-color: #f1f1f1;\n",
       "  color: #000000;\n",
       "}\n",
       "#T_c97a5_row9_col6 {\n",
       "  font-size: 6pt;\n",
       "  background-color: #f7f7f7;\n",
       "  color: #000000;\n",
       "}\n",
       "#T_c97a5_row9_col8 {\n",
       "  font-size: 6pt;\n",
       "  background-color: #030303;\n",
       "  color: #f1f1f1;\n",
       "}\n",
       "#T_c97a5_row9_col13 {\n",
       "  font-size: 6pt;\n",
       "  background-color: #181818;\n",
       "  color: #f1f1f1;\n",
       "}\n",
       "#T_c97a5_row9_col14 {\n",
       "  font-size: 6pt;\n",
       "  background-color: #303030;\n",
       "  color: #f1f1f1;\n",
       "}\n",
       "#T_c97a5_row9_col15 {\n",
       "  font-size: 6pt;\n",
       "  background-color: #a9a9a9;\n",
       "  color: #f1f1f1;\n",
       "}\n",
       "#T_c97a5_row9_col16 {\n",
       "  font-size: 6pt;\n",
       "  background-color: #fefefe;\n",
       "  color: #000000;\n",
       "}\n",
       "#T_c97a5_row10_col9, #T_c97a5_row10_col10 {\n",
       "  font-size: 6pt;\n",
       "  background-color: #bababa;\n",
       "  color: #000000;\n",
       "}\n",
       "#T_c97a5_row10_col11 {\n",
       "  font-size: 6pt;\n",
       "  background-color: #393939;\n",
       "  color: #f1f1f1;\n",
       "}\n",
       "</style>\n",
       "<table id=\"T_c97a5_\">\n",
       "  <thead>\n",
       "    <tr>\n",
       "      <th class=\"blank level0\" >&nbsp;</th>\n",
       "      <th class=\"col_heading level0 col0\" >0</th>\n",
       "      <th class=\"col_heading level0 col1\" >1</th>\n",
       "      <th class=\"col_heading level0 col2\" >2</th>\n",
       "      <th class=\"col_heading level0 col3\" >3</th>\n",
       "      <th class=\"col_heading level0 col4\" >4</th>\n",
       "      <th class=\"col_heading level0 col5\" >5</th>\n",
       "      <th class=\"col_heading level0 col6\" >6</th>\n",
       "      <th class=\"col_heading level0 col7\" >7</th>\n",
       "      <th class=\"col_heading level0 col8\" >8</th>\n",
       "      <th class=\"col_heading level0 col9\" >9</th>\n",
       "      <th class=\"col_heading level0 col10\" >10</th>\n",
       "      <th class=\"col_heading level0 col11\" >11</th>\n",
       "      <th class=\"col_heading level0 col12\" >12</th>\n",
       "      <th class=\"col_heading level0 col13\" >13</th>\n",
       "      <th class=\"col_heading level0 col14\" >14</th>\n",
       "      <th class=\"col_heading level0 col15\" >15</th>\n",
       "      <th class=\"col_heading level0 col16\" >16</th>\n",
       "      <th class=\"col_heading level0 col17\" >17</th>\n",
       "      <th class=\"col_heading level0 col18\" >18</th>\n",
       "    </tr>\n",
       "  </thead>\n",
       "  <tbody>\n",
       "    <tr>\n",
       "      <th id=\"T_c97a5_level0_row0\" class=\"row_heading level0 row0\" >0</th>\n",
       "      <td id=\"T_c97a5_row0_col0\" class=\"data row0 col0\" >0</td>\n",
       "      <td id=\"T_c97a5_row0_col1\" class=\"data row0 col1\" >0</td>\n",
       "      <td id=\"T_c97a5_row0_col2\" class=\"data row0 col2\" >0</td>\n",
       "      <td id=\"T_c97a5_row0_col3\" class=\"data row0 col3\" >0</td>\n",
       "      <td id=\"T_c97a5_row0_col4\" class=\"data row0 col4\" >0</td>\n",
       "      <td id=\"T_c97a5_row0_col5\" class=\"data row0 col5\" >0</td>\n",
       "      <td id=\"T_c97a5_row0_col6\" class=\"data row0 col6\" >0</td>\n",
       "      <td id=\"T_c97a5_row0_col7\" class=\"data row0 col7\" >0</td>\n",
       "      <td id=\"T_c97a5_row0_col8\" class=\"data row0 col8\" >0</td>\n",
       "      <td id=\"T_c97a5_row0_col9\" class=\"data row0 col9\" >0</td>\n",
       "      <td id=\"T_c97a5_row0_col10\" class=\"data row0 col10\" >0</td>\n",
       "      <td id=\"T_c97a5_row0_col11\" class=\"data row0 col11\" >0</td>\n",
       "      <td id=\"T_c97a5_row0_col12\" class=\"data row0 col12\" >0</td>\n",
       "      <td id=\"T_c97a5_row0_col13\" class=\"data row0 col13\" >0</td>\n",
       "      <td id=\"T_c97a5_row0_col14\" class=\"data row0 col14\" >0</td>\n",
       "      <td id=\"T_c97a5_row0_col15\" class=\"data row0 col15\" >0</td>\n",
       "      <td id=\"T_c97a5_row0_col16\" class=\"data row0 col16\" >0</td>\n",
       "      <td id=\"T_c97a5_row0_col17\" class=\"data row0 col17\" >0</td>\n",
       "      <td id=\"T_c97a5_row0_col18\" class=\"data row0 col18\" >0</td>\n",
       "    </tr>\n",
       "    <tr>\n",
       "      <th id=\"T_c97a5_level0_row1\" class=\"row_heading level0 row1\" >1</th>\n",
       "      <td id=\"T_c97a5_row1_col0\" class=\"data row1 col0\" >0</td>\n",
       "      <td id=\"T_c97a5_row1_col1\" class=\"data row1 col1\" >0</td>\n",
       "      <td id=\"T_c97a5_row1_col2\" class=\"data row1 col2\" >0</td>\n",
       "      <td id=\"T_c97a5_row1_col3\" class=\"data row1 col3\" >0</td>\n",
       "      <td id=\"T_c97a5_row1_col4\" class=\"data row1 col4\" >0</td>\n",
       "      <td id=\"T_c97a5_row1_col5\" class=\"data row1 col5\" >0</td>\n",
       "      <td id=\"T_c97a5_row1_col6\" class=\"data row1 col6\" >29</td>\n",
       "      <td id=\"T_c97a5_row1_col7\" class=\"data row1 col7\" >150</td>\n",
       "      <td id=\"T_c97a5_row1_col8\" class=\"data row1 col8\" >195</td>\n",
       "      <td id=\"T_c97a5_row1_col9\" class=\"data row1 col9\" >254</td>\n",
       "      <td id=\"T_c97a5_row1_col10\" class=\"data row1 col10\" >255</td>\n",
       "      <td id=\"T_c97a5_row1_col11\" class=\"data row1 col11\" >254</td>\n",
       "      <td id=\"T_c97a5_row1_col12\" class=\"data row1 col12\" >176</td>\n",
       "      <td id=\"T_c97a5_row1_col13\" class=\"data row1 col13\" >193</td>\n",
       "      <td id=\"T_c97a5_row1_col14\" class=\"data row1 col14\" >150</td>\n",
       "      <td id=\"T_c97a5_row1_col15\" class=\"data row1 col15\" >96</td>\n",
       "      <td id=\"T_c97a5_row1_col16\" class=\"data row1 col16\" >0</td>\n",
       "      <td id=\"T_c97a5_row1_col17\" class=\"data row1 col17\" >0</td>\n",
       "      <td id=\"T_c97a5_row1_col18\" class=\"data row1 col18\" >0</td>\n",
       "    </tr>\n",
       "    <tr>\n",
       "      <th id=\"T_c97a5_level0_row2\" class=\"row_heading level0 row2\" >2</th>\n",
       "      <td id=\"T_c97a5_row2_col0\" class=\"data row2 col0\" >0</td>\n",
       "      <td id=\"T_c97a5_row2_col1\" class=\"data row2 col1\" >0</td>\n",
       "      <td id=\"T_c97a5_row2_col2\" class=\"data row2 col2\" >0</td>\n",
       "      <td id=\"T_c97a5_row2_col3\" class=\"data row2 col3\" >0</td>\n",
       "      <td id=\"T_c97a5_row2_col4\" class=\"data row2 col4\" >48</td>\n",
       "      <td id=\"T_c97a5_row2_col5\" class=\"data row2 col5\" >166</td>\n",
       "      <td id=\"T_c97a5_row2_col6\" class=\"data row2 col6\" >224</td>\n",
       "      <td id=\"T_c97a5_row2_col7\" class=\"data row2 col7\" >253</td>\n",
       "      <td id=\"T_c97a5_row2_col8\" class=\"data row2 col8\" >253</td>\n",
       "      <td id=\"T_c97a5_row2_col9\" class=\"data row2 col9\" >234</td>\n",
       "      <td id=\"T_c97a5_row2_col10\" class=\"data row2 col10\" >196</td>\n",
       "      <td id=\"T_c97a5_row2_col11\" class=\"data row2 col11\" >253</td>\n",
       "      <td id=\"T_c97a5_row2_col12\" class=\"data row2 col12\" >253</td>\n",
       "      <td id=\"T_c97a5_row2_col13\" class=\"data row2 col13\" >253</td>\n",
       "      <td id=\"T_c97a5_row2_col14\" class=\"data row2 col14\" >253</td>\n",
       "      <td id=\"T_c97a5_row2_col15\" class=\"data row2 col15\" >233</td>\n",
       "      <td id=\"T_c97a5_row2_col16\" class=\"data row2 col16\" >0</td>\n",
       "      <td id=\"T_c97a5_row2_col17\" class=\"data row2 col17\" >0</td>\n",
       "      <td id=\"T_c97a5_row2_col18\" class=\"data row2 col18\" >0</td>\n",
       "    </tr>\n",
       "    <tr>\n",
       "      <th id=\"T_c97a5_level0_row3\" class=\"row_heading level0 row3\" >3</th>\n",
       "      <td id=\"T_c97a5_row3_col0\" class=\"data row3 col0\" >0</td>\n",
       "      <td id=\"T_c97a5_row3_col1\" class=\"data row3 col1\" >0</td>\n",
       "      <td id=\"T_c97a5_row3_col2\" class=\"data row3 col2\" >93</td>\n",
       "      <td id=\"T_c97a5_row3_col3\" class=\"data row3 col3\" >244</td>\n",
       "      <td id=\"T_c97a5_row3_col4\" class=\"data row3 col4\" >249</td>\n",
       "      <td id=\"T_c97a5_row3_col5\" class=\"data row3 col5\" >253</td>\n",
       "      <td id=\"T_c97a5_row3_col6\" class=\"data row3 col6\" >187</td>\n",
       "      <td id=\"T_c97a5_row3_col7\" class=\"data row3 col7\" >46</td>\n",
       "      <td id=\"T_c97a5_row3_col8\" class=\"data row3 col8\" >10</td>\n",
       "      <td id=\"T_c97a5_row3_col9\" class=\"data row3 col9\" >8</td>\n",
       "      <td id=\"T_c97a5_row3_col10\" class=\"data row3 col10\" >4</td>\n",
       "      <td id=\"T_c97a5_row3_col11\" class=\"data row3 col11\" >10</td>\n",
       "      <td id=\"T_c97a5_row3_col12\" class=\"data row3 col12\" >194</td>\n",
       "      <td id=\"T_c97a5_row3_col13\" class=\"data row3 col13\" >253</td>\n",
       "      <td id=\"T_c97a5_row3_col14\" class=\"data row3 col14\" >253</td>\n",
       "      <td id=\"T_c97a5_row3_col15\" class=\"data row3 col15\" >233</td>\n",
       "      <td id=\"T_c97a5_row3_col16\" class=\"data row3 col16\" >0</td>\n",
       "      <td id=\"T_c97a5_row3_col17\" class=\"data row3 col17\" >0</td>\n",
       "      <td id=\"T_c97a5_row3_col18\" class=\"data row3 col18\" >0</td>\n",
       "    </tr>\n",
       "    <tr>\n",
       "      <th id=\"T_c97a5_level0_row4\" class=\"row_heading level0 row4\" >4</th>\n",
       "      <td id=\"T_c97a5_row4_col0\" class=\"data row4 col0\" >0</td>\n",
       "      <td id=\"T_c97a5_row4_col1\" class=\"data row4 col1\" >0</td>\n",
       "      <td id=\"T_c97a5_row4_col2\" class=\"data row4 col2\" >107</td>\n",
       "      <td id=\"T_c97a5_row4_col3\" class=\"data row4 col3\" >253</td>\n",
       "      <td id=\"T_c97a5_row4_col4\" class=\"data row4 col4\" >253</td>\n",
       "      <td id=\"T_c97a5_row4_col5\" class=\"data row4 col5\" >230</td>\n",
       "      <td id=\"T_c97a5_row4_col6\" class=\"data row4 col6\" >48</td>\n",
       "      <td id=\"T_c97a5_row4_col7\" class=\"data row4 col7\" >0</td>\n",
       "      <td id=\"T_c97a5_row4_col8\" class=\"data row4 col8\" >0</td>\n",
       "      <td id=\"T_c97a5_row4_col9\" class=\"data row4 col9\" >0</td>\n",
       "      <td id=\"T_c97a5_row4_col10\" class=\"data row4 col10\" >0</td>\n",
       "      <td id=\"T_c97a5_row4_col11\" class=\"data row4 col11\" >0</td>\n",
       "      <td id=\"T_c97a5_row4_col12\" class=\"data row4 col12\" >192</td>\n",
       "      <td id=\"T_c97a5_row4_col13\" class=\"data row4 col13\" >253</td>\n",
       "      <td id=\"T_c97a5_row4_col14\" class=\"data row4 col14\" >253</td>\n",
       "      <td id=\"T_c97a5_row4_col15\" class=\"data row4 col15\" >156</td>\n",
       "      <td id=\"T_c97a5_row4_col16\" class=\"data row4 col16\" >0</td>\n",
       "      <td id=\"T_c97a5_row4_col17\" class=\"data row4 col17\" >0</td>\n",
       "      <td id=\"T_c97a5_row4_col18\" class=\"data row4 col18\" >0</td>\n",
       "    </tr>\n",
       "    <tr>\n",
       "      <th id=\"T_c97a5_level0_row5\" class=\"row_heading level0 row5\" >5</th>\n",
       "      <td id=\"T_c97a5_row5_col0\" class=\"data row5 col0\" >0</td>\n",
       "      <td id=\"T_c97a5_row5_col1\" class=\"data row5 col1\" >0</td>\n",
       "      <td id=\"T_c97a5_row5_col2\" class=\"data row5 col2\" >3</td>\n",
       "      <td id=\"T_c97a5_row5_col3\" class=\"data row5 col3\" >20</td>\n",
       "      <td id=\"T_c97a5_row5_col4\" class=\"data row5 col4\" >20</td>\n",
       "      <td id=\"T_c97a5_row5_col5\" class=\"data row5 col5\" >15</td>\n",
       "      <td id=\"T_c97a5_row5_col6\" class=\"data row5 col6\" >0</td>\n",
       "      <td id=\"T_c97a5_row5_col7\" class=\"data row5 col7\" >0</td>\n",
       "      <td id=\"T_c97a5_row5_col8\" class=\"data row5 col8\" >0</td>\n",
       "      <td id=\"T_c97a5_row5_col9\" class=\"data row5 col9\" >0</td>\n",
       "      <td id=\"T_c97a5_row5_col10\" class=\"data row5 col10\" >0</td>\n",
       "      <td id=\"T_c97a5_row5_col11\" class=\"data row5 col11\" >43</td>\n",
       "      <td id=\"T_c97a5_row5_col12\" class=\"data row5 col12\" >224</td>\n",
       "      <td id=\"T_c97a5_row5_col13\" class=\"data row5 col13\" >253</td>\n",
       "      <td id=\"T_c97a5_row5_col14\" class=\"data row5 col14\" >245</td>\n",
       "      <td id=\"T_c97a5_row5_col15\" class=\"data row5 col15\" >74</td>\n",
       "      <td id=\"T_c97a5_row5_col16\" class=\"data row5 col16\" >0</td>\n",
       "      <td id=\"T_c97a5_row5_col17\" class=\"data row5 col17\" >0</td>\n",
       "      <td id=\"T_c97a5_row5_col18\" class=\"data row5 col18\" >0</td>\n",
       "    </tr>\n",
       "    <tr>\n",
       "      <th id=\"T_c97a5_level0_row6\" class=\"row_heading level0 row6\" >6</th>\n",
       "      <td id=\"T_c97a5_row6_col0\" class=\"data row6 col0\" >0</td>\n",
       "      <td id=\"T_c97a5_row6_col1\" class=\"data row6 col1\" >0</td>\n",
       "      <td id=\"T_c97a5_row6_col2\" class=\"data row6 col2\" >0</td>\n",
       "      <td id=\"T_c97a5_row6_col3\" class=\"data row6 col3\" >0</td>\n",
       "      <td id=\"T_c97a5_row6_col4\" class=\"data row6 col4\" >0</td>\n",
       "      <td id=\"T_c97a5_row6_col5\" class=\"data row6 col5\" >0</td>\n",
       "      <td id=\"T_c97a5_row6_col6\" class=\"data row6 col6\" >0</td>\n",
       "      <td id=\"T_c97a5_row6_col7\" class=\"data row6 col7\" >0</td>\n",
       "      <td id=\"T_c97a5_row6_col8\" class=\"data row6 col8\" >0</td>\n",
       "      <td id=\"T_c97a5_row6_col9\" class=\"data row6 col9\" >0</td>\n",
       "      <td id=\"T_c97a5_row6_col10\" class=\"data row6 col10\" >0</td>\n",
       "      <td id=\"T_c97a5_row6_col11\" class=\"data row6 col11\" >249</td>\n",
       "      <td id=\"T_c97a5_row6_col12\" class=\"data row6 col12\" >253</td>\n",
       "      <td id=\"T_c97a5_row6_col13\" class=\"data row6 col13\" >245</td>\n",
       "      <td id=\"T_c97a5_row6_col14\" class=\"data row6 col14\" >126</td>\n",
       "      <td id=\"T_c97a5_row6_col15\" class=\"data row6 col15\" >0</td>\n",
       "      <td id=\"T_c97a5_row6_col16\" class=\"data row6 col16\" >0</td>\n",
       "      <td id=\"T_c97a5_row6_col17\" class=\"data row6 col17\" >0</td>\n",
       "      <td id=\"T_c97a5_row6_col18\" class=\"data row6 col18\" >0</td>\n",
       "    </tr>\n",
       "    <tr>\n",
       "      <th id=\"T_c97a5_level0_row7\" class=\"row_heading level0 row7\" >7</th>\n",
       "      <td id=\"T_c97a5_row7_col0\" class=\"data row7 col0\" >0</td>\n",
       "      <td id=\"T_c97a5_row7_col1\" class=\"data row7 col1\" >0</td>\n",
       "      <td id=\"T_c97a5_row7_col2\" class=\"data row7 col2\" >0</td>\n",
       "      <td id=\"T_c97a5_row7_col3\" class=\"data row7 col3\" >0</td>\n",
       "      <td id=\"T_c97a5_row7_col4\" class=\"data row7 col4\" >0</td>\n",
       "      <td id=\"T_c97a5_row7_col5\" class=\"data row7 col5\" >0</td>\n",
       "      <td id=\"T_c97a5_row7_col6\" class=\"data row7 col6\" >0</td>\n",
       "      <td id=\"T_c97a5_row7_col7\" class=\"data row7 col7\" >0</td>\n",
       "      <td id=\"T_c97a5_row7_col8\" class=\"data row7 col8\" >14</td>\n",
       "      <td id=\"T_c97a5_row7_col9\" class=\"data row7 col9\" >101</td>\n",
       "      <td id=\"T_c97a5_row7_col10\" class=\"data row7 col10\" >223</td>\n",
       "      <td id=\"T_c97a5_row7_col11\" class=\"data row7 col11\" >253</td>\n",
       "      <td id=\"T_c97a5_row7_col12\" class=\"data row7 col12\" >248</td>\n",
       "      <td id=\"T_c97a5_row7_col13\" class=\"data row7 col13\" >124</td>\n",
       "      <td id=\"T_c97a5_row7_col14\" class=\"data row7 col14\" >0</td>\n",
       "      <td id=\"T_c97a5_row7_col15\" class=\"data row7 col15\" >0</td>\n",
       "      <td id=\"T_c97a5_row7_col16\" class=\"data row7 col16\" >0</td>\n",
       "      <td id=\"T_c97a5_row7_col17\" class=\"data row7 col17\" >0</td>\n",
       "      <td id=\"T_c97a5_row7_col18\" class=\"data row7 col18\" >0</td>\n",
       "    </tr>\n",
       "    <tr>\n",
       "      <th id=\"T_c97a5_level0_row8\" class=\"row_heading level0 row8\" >8</th>\n",
       "      <td id=\"T_c97a5_row8_col0\" class=\"data row8 col0\" >0</td>\n",
       "      <td id=\"T_c97a5_row8_col1\" class=\"data row8 col1\" >0</td>\n",
       "      <td id=\"T_c97a5_row8_col2\" class=\"data row8 col2\" >0</td>\n",
       "      <td id=\"T_c97a5_row8_col3\" class=\"data row8 col3\" >0</td>\n",
       "      <td id=\"T_c97a5_row8_col4\" class=\"data row8 col4\" >0</td>\n",
       "      <td id=\"T_c97a5_row8_col5\" class=\"data row8 col5\" >0</td>\n",
       "      <td id=\"T_c97a5_row8_col6\" class=\"data row8 col6\" >11</td>\n",
       "      <td id=\"T_c97a5_row8_col7\" class=\"data row8 col7\" >166</td>\n",
       "      <td id=\"T_c97a5_row8_col8\" class=\"data row8 col8\" >239</td>\n",
       "      <td id=\"T_c97a5_row8_col9\" class=\"data row8 col9\" >253</td>\n",
       "      <td id=\"T_c97a5_row8_col10\" class=\"data row8 col10\" >253</td>\n",
       "      <td id=\"T_c97a5_row8_col11\" class=\"data row8 col11\" >253</td>\n",
       "      <td id=\"T_c97a5_row8_col12\" class=\"data row8 col12\" >187</td>\n",
       "      <td id=\"T_c97a5_row8_col13\" class=\"data row8 col13\" >30</td>\n",
       "      <td id=\"T_c97a5_row8_col14\" class=\"data row8 col14\" >0</td>\n",
       "      <td id=\"T_c97a5_row8_col15\" class=\"data row8 col15\" >0</td>\n",
       "      <td id=\"T_c97a5_row8_col16\" class=\"data row8 col16\" >0</td>\n",
       "      <td id=\"T_c97a5_row8_col17\" class=\"data row8 col17\" >0</td>\n",
       "      <td id=\"T_c97a5_row8_col18\" class=\"data row8 col18\" >0</td>\n",
       "    </tr>\n",
       "    <tr>\n",
       "      <th id=\"T_c97a5_level0_row9\" class=\"row_heading level0 row9\" >9</th>\n",
       "      <td id=\"T_c97a5_row9_col0\" class=\"data row9 col0\" >0</td>\n",
       "      <td id=\"T_c97a5_row9_col1\" class=\"data row9 col1\" >0</td>\n",
       "      <td id=\"T_c97a5_row9_col2\" class=\"data row9 col2\" >0</td>\n",
       "      <td id=\"T_c97a5_row9_col3\" class=\"data row9 col3\" >0</td>\n",
       "      <td id=\"T_c97a5_row9_col4\" class=\"data row9 col4\" >0</td>\n",
       "      <td id=\"T_c97a5_row9_col5\" class=\"data row9 col5\" >0</td>\n",
       "      <td id=\"T_c97a5_row9_col6\" class=\"data row9 col6\" >16</td>\n",
       "      <td id=\"T_c97a5_row9_col7\" class=\"data row9 col7\" >248</td>\n",
       "      <td id=\"T_c97a5_row9_col8\" class=\"data row9 col8\" >250</td>\n",
       "      <td id=\"T_c97a5_row9_col9\" class=\"data row9 col9\" >253</td>\n",
       "      <td id=\"T_c97a5_row9_col10\" class=\"data row9 col10\" >253</td>\n",
       "      <td id=\"T_c97a5_row9_col11\" class=\"data row9 col11\" >253</td>\n",
       "      <td id=\"T_c97a5_row9_col12\" class=\"data row9 col12\" >253</td>\n",
       "      <td id=\"T_c97a5_row9_col13\" class=\"data row9 col13\" >232</td>\n",
       "      <td id=\"T_c97a5_row9_col14\" class=\"data row9 col14\" >213</td>\n",
       "      <td id=\"T_c97a5_row9_col15\" class=\"data row9 col15\" >111</td>\n",
       "      <td id=\"T_c97a5_row9_col16\" class=\"data row9 col16\" >2</td>\n",
       "      <td id=\"T_c97a5_row9_col17\" class=\"data row9 col17\" >0</td>\n",
       "      <td id=\"T_c97a5_row9_col18\" class=\"data row9 col18\" >0</td>\n",
       "    </tr>\n",
       "    <tr>\n",
       "      <th id=\"T_c97a5_level0_row10\" class=\"row_heading level0 row10\" >10</th>\n",
       "      <td id=\"T_c97a5_row10_col0\" class=\"data row10 col0\" >0</td>\n",
       "      <td id=\"T_c97a5_row10_col1\" class=\"data row10 col1\" >0</td>\n",
       "      <td id=\"T_c97a5_row10_col2\" class=\"data row10 col2\" >0</td>\n",
       "      <td id=\"T_c97a5_row10_col3\" class=\"data row10 col3\" >0</td>\n",
       "      <td id=\"T_c97a5_row10_col4\" class=\"data row10 col4\" >0</td>\n",
       "      <td id=\"T_c97a5_row10_col5\" class=\"data row10 col5\" >0</td>\n",
       "      <td id=\"T_c97a5_row10_col6\" class=\"data row10 col6\" >0</td>\n",
       "      <td id=\"T_c97a5_row10_col7\" class=\"data row10 col7\" >0</td>\n",
       "      <td id=\"T_c97a5_row10_col8\" class=\"data row10 col8\" >43</td>\n",
       "      <td id=\"T_c97a5_row10_col9\" class=\"data row10 col9\" >98</td>\n",
       "      <td id=\"T_c97a5_row10_col10\" class=\"data row10 col10\" >98</td>\n",
       "      <td id=\"T_c97a5_row10_col11\" class=\"data row10 col11\" >208</td>\n",
       "      <td id=\"T_c97a5_row10_col12\" class=\"data row10 col12\" >253</td>\n",
       "      <td id=\"T_c97a5_row10_col13\" class=\"data row10 col13\" >253</td>\n",
       "      <td id=\"T_c97a5_row10_col14\" class=\"data row10 col14\" >253</td>\n",
       "      <td id=\"T_c97a5_row10_col15\" class=\"data row10 col15\" >253</td>\n",
       "      <td id=\"T_c97a5_row10_col16\" class=\"data row10 col16\" >187</td>\n",
       "      <td id=\"T_c97a5_row10_col17\" class=\"data row10 col17\" >22</td>\n",
       "      <td id=\"T_c97a5_row10_col18\" class=\"data row10 col18\" >0</td>\n",
       "    </tr>\n",
       "  </tbody>\n",
       "</table>\n"
      ],
      "text/plain": [
       "<pandas.io.formats.style.Styler at 0x7ff0c3fe33a0>"
      ]
     },
     "execution_count": 13,
     "metadata": {},
     "output_type": "execute_result"
    }
   ],
   "source": [
    "pd.DataFrame(tensor(im3)[4:15,3:22]).style.set_properties(**{'font-size':'6pt'}).background_gradient('Greys')"
   ]
  },
  {
   "cell_type": "code",
   "execution_count": 14,
   "id": "15ecb36f",
   "metadata": {},
   "outputs": [],
   "source": [
    "sevens_list = [tensor(Image.open(o)) for o in sevens]\n",
    "threes_list = [tensor(Image.open(o)) for o in threes]"
   ]
  },
  {
   "cell_type": "code",
   "execution_count": 15,
   "id": "19ee0976",
   "metadata": {},
   "outputs": [
    {
     "data": {
      "text/plain": [
       "(list, torch.Tensor)"
      ]
     },
     "execution_count": 15,
     "metadata": {},
     "output_type": "execute_result"
    }
   ],
   "source": [
    "type(sevens_list), type(sevens_list[0])"
   ]
  },
  {
   "cell_type": "code",
   "execution_count": 16,
   "id": "2d04304b",
   "metadata": {},
   "outputs": [
    {
     "data": {
      "text/plain": [
       "<AxesSubplot:>"
      ]
     },
     "execution_count": 16,
     "metadata": {},
     "output_type": "execute_result"
    },
    {
     "data": {
      "image/png": "[encoded data removed]",
      "text/plain": [
       "<Figure size 72x72 with 1 Axes>"
      ]
     },
     "metadata": {
      "needs_background": "light"
     },
     "output_type": "display_data"
    }
   ],
   "source": [
    "show_image(sevens_list[0])"
   ]
  },
  {
   "cell_type": "markdown",
   "id": "d89f2d4c",
   "metadata": {},
   "source": [
    "# Lets Stack as Tensor"
   ]
  },
  {
   "cell_type": "code",
   "execution_count": 17,
   "id": "a2c65fd8",
   "metadata": {},
   "outputs": [],
   "source": [
    "sevens_stack = torch.stack(sevens_list).float()/255\n",
    "threes_stack = torch.stack(threes_list).float()/255"
   ]
  },
  {
   "cell_type": "code",
   "execution_count": 18,
   "id": "a7d4440a",
   "metadata": {},
   "outputs": [
    {
     "data": {
      "text/plain": [
       "torch.Tensor"
      ]
     },
     "execution_count": 18,
     "metadata": {},
     "output_type": "execute_result"
    }
   ],
   "source": [
    "type(sevens_stack)"
   ]
  },
  {
   "cell_type": "markdown",
   "id": "673189db",
   "metadata": {},
   "source": [
    "# Compare the types above"
   ]
  },
  {
   "cell_type": "code",
   "execution_count": 19,
   "id": "246e5165",
   "metadata": {},
   "outputs": [
    {
     "data": {
      "text/plain": [
       "(list, torch.Tensor)"
      ]
     },
     "execution_count": 19,
     "metadata": {},
     "output_type": "execute_result"
    }
   ],
   "source": [
    "type(sevens_list), type(sevens_list[0])"
   ]
  },
  {
   "cell_type": "markdown",
   "id": "9ff9513d",
   "metadata": {},
   "source": [
    "# Put All things Together for Validation"
   ]
  },
  {
   "cell_type": "code",
   "execution_count": 20,
   "id": "104ae2ce",
   "metadata": {},
   "outputs": [
    {
     "data": {
      "text/plain": [
       "(torch.Size([1010, 28, 28]), torch.Size([1028, 28, 28]))"
      ]
     },
     "execution_count": 20,
     "metadata": {},
     "output_type": "execute_result"
    }
   ],
   "source": [
    "valid_3_tens = torch.stack([tensor(Image.open(o)) \n",
    "                            for o in (path/'valid'/'3').ls()])\n",
    "valid_3_tens = valid_3_tens.float()/255\n",
    "\n",
    "valid_7_tens = torch.stack([tensor(Image.open(o)) \n",
    "                            for o in (path/'valid'/'7').ls()])\n",
    "valid_7_tens = valid_7_tens.float()/255\n",
    "valid_3_tens.shape,valid_7_tens.shape"
   ]
  },
  {
   "cell_type": "markdown",
   "id": "8a5e018d",
   "metadata": {},
   "source": [
    "# Prepare Training Data"
   ]
  },
  {
   "cell_type": "code",
   "execution_count": 21,
   "id": "67c6e27d",
   "metadata": {},
   "outputs": [
    {
     "data": {
      "text/plain": [
       "(list, 2)"
      ]
     },
     "execution_count": 21,
     "metadata": {},
     "output_type": "execute_result"
    }
   ],
   "source": [
    "type([sevens_stack, threes_stack]) ,len([sevens_stack, threes_stack])"
   ]
  },
  {
   "cell_type": "code",
   "execution_count": 22,
   "id": "0da779b2",
   "metadata": {},
   "outputs": [],
   "source": [
    "train_x = torch.cat([sevens_stack, threes_stack]).view(-1,28*28)"
   ]
  },
  {
   "cell_type": "code",
   "execution_count": 23,
   "id": "607814af",
   "metadata": {},
   "outputs": [
    {
     "data": {
      "text/plain": [
       "(torch.Tensor, torch.Tensor, torch.Size([12396, 784]))"
      ]
     },
     "execution_count": 23,
     "metadata": {},
     "output_type": "execute_result"
    }
   ],
   "source": [
    "type(train_x),type(train_x[0]), train_x.shape"
   ]
  },
  {
   "cell_type": "code",
   "execution_count": 24,
   "id": "b7b8bb78",
   "metadata": {},
   "outputs": [],
   "source": [
    "train_y = tensor([0]*len(sevens_stack) + [1]*len(threes_stack)).unsqueeze(1)"
   ]
  },
  {
   "cell_type": "code",
   "execution_count": 25,
   "id": "3b69f2c0",
   "metadata": {},
   "outputs": [],
   "source": [
    "#train_y. "
   ]
  },
  {
   "cell_type": "code",
   "execution_count": 26,
   "id": "57341aa6",
   "metadata": {},
   "outputs": [],
   "source": [
    "dset = list(zip(train_x,train_y))"
   ]
  },
  {
   "cell_type": "code",
   "execution_count": 27,
   "id": "81018864",
   "metadata": {},
   "outputs": [],
   "source": [
    "x,y = dset[0]"
   ]
  },
  {
   "cell_type": "code",
   "execution_count": 28,
   "id": "3889dc6d",
   "metadata": {},
   "outputs": [
    {
     "data": {
      "text/plain": [
       "(torch.Size([784]), torch.Size([1]))"
      ]
     },
     "execution_count": 28,
     "metadata": {},
     "output_type": "execute_result"
    }
   ],
   "source": [
    "x.shape,y.shape"
   ]
  },
  {
   "cell_type": "markdown",
   "id": "d2bf9d94",
   "metadata": {},
   "source": [
    "# Prepare Testing Data"
   ]
  },
  {
   "cell_type": "code",
   "execution_count": 29,
   "id": "fe464792",
   "metadata": {},
   "outputs": [],
   "source": [
    "valid_x = torch.cat([valid_7_tens ,valid_3_tens]).view(-1,28*28)\n",
    "valid_y = tensor([0]*len(valid_7_tens )+ [1]* len(valid_3_tens)).unsqueeze(1)\n",
    "valid_dset=list(zip(valid_x,valid_y))"
   ]
  },
  {
   "cell_type": "code",
   "execution_count": 30,
   "id": "cd96b800",
   "metadata": {},
   "outputs": [
    {
     "data": {
      "text/plain": [
       "(torch.Size([2038, 784]), torch.Size([2038, 1]))"
      ]
     },
     "execution_count": 30,
     "metadata": {},
     "output_type": "execute_result"
    }
   ],
   "source": [
    "valid_x.shape,valid_y.shape"
   ]
  },
  {
   "cell_type": "markdown",
   "id": "42c9fd5e",
   "metadata": {},
   "source": [
    "# Data Loaders : Pytorch API"
   ]
  },
  {
   "cell_type": "code",
   "execution_count": 31,
   "id": "5ebd7422",
   "metadata": {},
   "outputs": [],
   "source": [
    "dl = DataLoader(range(15), batch_size=5,shuffle=True)"
   ]
  },
  {
   "cell_type": "code",
   "execution_count": 32,
   "id": "cdf82e38",
   "metadata": {},
   "outputs": [
    {
     "data": {
      "text/plain": [
       "[tensor([ 3, 12,  8, 10,  2]),\n",
       " tensor([ 9,  4,  7, 14,  5]),\n",
       " tensor([ 1, 13,  0,  6, 11])]"
      ]
     },
     "execution_count": 32,
     "metadata": {},
     "output_type": "execute_result"
    }
   ],
   "source": [
    "list(dl)"
   ]
  },
  {
   "cell_type": "code",
   "execution_count": 33,
   "id": "7c8a4f9a",
   "metadata": {},
   "outputs": [],
   "source": [
    "ds=DataLoader(L(enumerate(string.ascii_lowercase)), batch_size=5, shuffle=True)"
   ]
  },
  {
   "cell_type": "code",
   "execution_count": 34,
   "id": "462ec03a",
   "metadata": {},
   "outputs": [
    {
     "data": {
      "text/plain": [
       "[(tensor([17, 18, 10, 22,  8]), ('r', 's', 'k', 'w', 'i')),\n",
       " (tensor([14, 20, 15,  9, 13]), ('o', 'u', 'p', 'j', 'n')),\n",
       " (tensor([21, 12,  7, 25,  6]), ('v', 'm', 'h', 'z', 'g')),\n",
       " (tensor([ 5, 11, 23,  1,  3]), ('f', 'l', 'x', 'b', 'd')),\n",
       " (tensor([ 0, 24, 19, 16,  2]), ('a', 'y', 't', 'q', 'c')),\n",
       " (tensor([4]), ('e',))]"
      ]
     },
     "execution_count": 34,
     "metadata": {},
     "output_type": "execute_result"
    }
   ],
   "source": [
    "list(ds)"
   ]
  },
  {
   "cell_type": "code",
   "execution_count": 35,
   "id": "eac49836",
   "metadata": {},
   "outputs": [],
   "source": [
    "dl = DataLoader(dset, batch_size=256,shuffle=True)\n",
    "xb, yb = first(dl)"
   ]
  },
  {
   "cell_type": "code",
   "execution_count": 36,
   "id": "53059b7d",
   "metadata": {},
   "outputs": [
    {
     "data": {
      "text/plain": [
       "(torch.Size([256, 784]), torch.Size([256, 1]))"
      ]
     },
     "execution_count": 36,
     "metadata": {},
     "output_type": "execute_result"
    }
   ],
   "source": [
    "xb.shape, yb.shape"
   ]
  },
  {
   "cell_type": "code",
   "execution_count": 37,
   "id": "776bbe49",
   "metadata": {},
   "outputs": [
    {
     "data": {
      "text/plain": [
       "(list, 2)"
      ]
     },
     "execution_count": 37,
     "metadata": {},
     "output_type": "execute_result"
    }
   ],
   "source": [
    "#iter(dl)\n",
    "type(valid_dset),len(valid_dset[0])"
   ]
  },
  {
   "cell_type": "code",
   "execution_count": 38,
   "id": "b4eebef9",
   "metadata": {},
   "outputs": [],
   "source": [
    "valid_dl = DataLoader(valid_dset, batch_size=256,shuffle=True)\n",
    "v_xb, v_yb = first(valid_dl)"
   ]
  },
  {
   "cell_type": "markdown",
   "id": "baa3b343",
   "metadata": {},
   "source": [
    "# Initialise Parameters"
   ]
  },
  {
   "cell_type": "code",
   "execution_count": 39,
   "id": "f227f803",
   "metadata": {},
   "outputs": [],
   "source": [
    "def init_params(size,std=1.0): return (torch.randn(size)*std).requires_grad_()"
   ]
  },
  {
   "cell_type": "code",
   "execution_count": 40,
   "id": "c56bb954",
   "metadata": {},
   "outputs": [],
   "source": [
    "weights = init_params((28*28,1))"
   ]
  },
  {
   "cell_type": "code",
   "execution_count": 41,
   "id": "8f14b142",
   "metadata": {},
   "outputs": [],
   "source": [
    "bias = init_params(1)"
   ]
  },
  {
   "cell_type": "markdown",
   "id": "857bb5f0",
   "metadata": {},
   "source": [
    "# Forward Pass"
   ]
  },
  {
   "cell_type": "code",
   "execution_count": 42,
   "id": "87d5b673",
   "metadata": {},
   "outputs": [],
   "source": [
    "def linear1(x): return x@weights +bias\n",
    "    "
   ]
  },
  {
   "cell_type": "markdown",
   "id": "2b3dcc90",
   "metadata": {},
   "source": [
    "# Lets see the first Batch"
   ]
  },
  {
   "cell_type": "code",
   "execution_count": 43,
   "id": "72d96d5b",
   "metadata": {},
   "outputs": [],
   "source": [
    "xb, yb = first(dl)"
   ]
  },
  {
   "cell_type": "code",
   "execution_count": 44,
   "id": "2f840ace",
   "metadata": {},
   "outputs": [],
   "source": [
    "preds = linear1(train_x)"
   ]
  },
  {
   "cell_type": "code",
   "execution_count": 45,
   "id": "b367d3cf",
   "metadata": {},
   "outputs": [],
   "source": [
    "preds=linear1(xb)"
   ]
  },
  {
   "cell_type": "code",
   "execution_count": 46,
   "id": "b85e74f4",
   "metadata": {},
   "outputs": [
    {
     "data": {
      "text/plain": [
       "(torch.Size([256, 1]), torch.Size([12396, 1]))"
      ]
     },
     "execution_count": 46,
     "metadata": {},
     "output_type": "execute_result"
    }
   ],
   "source": [
    "yb.shape,train_y.shape"
   ]
  },
  {
   "cell_type": "code",
   "execution_count": 47,
   "id": "fc4d21d1",
   "metadata": {},
   "outputs": [
    {
     "data": {
      "text/plain": [
       "tensor([[0],\n",
       "        [0],\n",
       "        [0],\n",
       "        ...,\n",
       "        [1],\n",
       "        [1],\n",
       "        [1]])"
      ]
     },
     "execution_count": 47,
     "metadata": {},
     "output_type": "execute_result"
    }
   ],
   "source": [
    "train_y"
   ]
  },
  {
   "cell_type": "code",
   "execution_count": 48,
   "id": "ee3766d7",
   "metadata": {},
   "outputs": [
    {
     "data": {
      "text/plain": [
       "tensor([[0],\n",
       "        [0],\n",
       "        [1],\n",
       "        [1],\n",
       "        [0],\n",
       "        [1],\n",
       "        [0],\n",
       "        [1],\n",
       "        [0],\n",
       "        [0],\n",
       "        [0],\n",
       "        [1],\n",
       "        [0],\n",
       "        [1],\n",
       "        [1],\n",
       "        [1],\n",
       "        [0],\n",
       "        [1],\n",
       "        [0],\n",
       "        [1],\n",
       "        [0],\n",
       "        [1],\n",
       "        [0],\n",
       "        [0],\n",
       "        [1],\n",
       "        [0],\n",
       "        [0],\n",
       "        [0],\n",
       "        [1],\n",
       "        [0],\n",
       "        [1],\n",
       "        [1],\n",
       "        [0],\n",
       "        [1],\n",
       "        [0],\n",
       "        [1],\n",
       "        [1],\n",
       "        [0],\n",
       "        [1],\n",
       "        [0],\n",
       "        [0],\n",
       "        [0],\n",
       "        [0],\n",
       "        [1],\n",
       "        [0],\n",
       "        [1],\n",
       "        [0],\n",
       "        [0],\n",
       "        [0],\n",
       "        [0],\n",
       "        [1],\n",
       "        [1],\n",
       "        [1],\n",
       "        [1],\n",
       "        [0],\n",
       "        [0],\n",
       "        [1],\n",
       "        [0],\n",
       "        [0],\n",
       "        [0],\n",
       "        [1],\n",
       "        [1],\n",
       "        [0],\n",
       "        [1],\n",
       "        [1],\n",
       "        [0],\n",
       "        [0],\n",
       "        [0],\n",
       "        [1],\n",
       "        [0],\n",
       "        [0],\n",
       "        [0],\n",
       "        [0],\n",
       "        [0],\n",
       "        [1],\n",
       "        [1],\n",
       "        [0],\n",
       "        [0],\n",
       "        [1],\n",
       "        [1],\n",
       "        [0],\n",
       "        [1],\n",
       "        [0],\n",
       "        [0],\n",
       "        [0],\n",
       "        [0],\n",
       "        [0],\n",
       "        [1],\n",
       "        [1],\n",
       "        [0],\n",
       "        [1],\n",
       "        [1],\n",
       "        [0],\n",
       "        [0],\n",
       "        [0],\n",
       "        [0],\n",
       "        [1],\n",
       "        [0],\n",
       "        [0],\n",
       "        [1],\n",
       "        [0],\n",
       "        [1],\n",
       "        [0],\n",
       "        [1],\n",
       "        [1],\n",
       "        [0],\n",
       "        [1],\n",
       "        [1],\n",
       "        [1],\n",
       "        [1],\n",
       "        [0],\n",
       "        [1],\n",
       "        [1],\n",
       "        [0],\n",
       "        [1],\n",
       "        [0],\n",
       "        [1],\n",
       "        [0],\n",
       "        [0],\n",
       "        [1],\n",
       "        [1],\n",
       "        [0],\n",
       "        [1],\n",
       "        [0],\n",
       "        [1],\n",
       "        [1],\n",
       "        [1],\n",
       "        [0],\n",
       "        [1],\n",
       "        [0],\n",
       "        [1],\n",
       "        [0],\n",
       "        [0],\n",
       "        [1],\n",
       "        [1],\n",
       "        [0],\n",
       "        [1],\n",
       "        [1],\n",
       "        [1],\n",
       "        [0],\n",
       "        [1],\n",
       "        [0],\n",
       "        [0],\n",
       "        [0],\n",
       "        [1],\n",
       "        [0],\n",
       "        [0],\n",
       "        [1],\n",
       "        [0],\n",
       "        [1],\n",
       "        [1],\n",
       "        [1],\n",
       "        [1],\n",
       "        [0],\n",
       "        [1],\n",
       "        [1],\n",
       "        [0],\n",
       "        [1],\n",
       "        [1],\n",
       "        [0],\n",
       "        [1],\n",
       "        [0],\n",
       "        [1],\n",
       "        [0],\n",
       "        [1],\n",
       "        [1],\n",
       "        [0],\n",
       "        [0],\n",
       "        [1],\n",
       "        [1],\n",
       "        [0],\n",
       "        [0],\n",
       "        [1],\n",
       "        [1],\n",
       "        [0],\n",
       "        [1],\n",
       "        [0],\n",
       "        [0],\n",
       "        [0],\n",
       "        [1],\n",
       "        [1],\n",
       "        [0],\n",
       "        [0],\n",
       "        [0],\n",
       "        [1],\n",
       "        [0],\n",
       "        [0],\n",
       "        [0],\n",
       "        [0],\n",
       "        [1],\n",
       "        [1],\n",
       "        [0],\n",
       "        [1],\n",
       "        [1],\n",
       "        [0],\n",
       "        [1],\n",
       "        [1],\n",
       "        [1],\n",
       "        [1],\n",
       "        [0],\n",
       "        [1],\n",
       "        [1],\n",
       "        [1],\n",
       "        [1],\n",
       "        [1],\n",
       "        [1],\n",
       "        [0],\n",
       "        [0],\n",
       "        [1],\n",
       "        [0],\n",
       "        [0],\n",
       "        [0],\n",
       "        [1],\n",
       "        [0],\n",
       "        [0],\n",
       "        [0],\n",
       "        [1],\n",
       "        [0],\n",
       "        [1],\n",
       "        [1],\n",
       "        [0],\n",
       "        [1],\n",
       "        [0],\n",
       "        [0],\n",
       "        [0],\n",
       "        [0],\n",
       "        [0],\n",
       "        [1],\n",
       "        [0],\n",
       "        [0],\n",
       "        [0],\n",
       "        [0],\n",
       "        [0],\n",
       "        [0],\n",
       "        [1],\n",
       "        [1],\n",
       "        [0],\n",
       "        [1],\n",
       "        [1],\n",
       "        [0],\n",
       "        [0],\n",
       "        [1],\n",
       "        [1],\n",
       "        [0],\n",
       "        [1],\n",
       "        [1],\n",
       "        [0],\n",
       "        [1],\n",
       "        [0],\n",
       "        [0],\n",
       "        [1],\n",
       "        [0],\n",
       "        [0],\n",
       "        [1],\n",
       "        [0],\n",
       "        [0]])"
      ]
     },
     "execution_count": 48,
     "metadata": {},
     "output_type": "execute_result"
    }
   ],
   "source": [
    "yb"
   ]
  },
  {
   "cell_type": "markdown",
   "id": "28df1627",
   "metadata": {},
   "source": [
    "# Step Function as an Activation"
   ]
  },
  {
   "cell_type": "code",
   "execution_count": 49,
   "id": "43145a26",
   "metadata": {},
   "outputs": [],
   "source": [
    "corrects =(preds>0.5).float() == yb"
   ]
  },
  {
   "cell_type": "code",
   "execution_count": 50,
   "id": "769916ee",
   "metadata": {},
   "outputs": [],
   "source": [
    "#corrects"
   ]
  },
  {
   "cell_type": "code",
   "execution_count": 51,
   "id": "a6c495cd",
   "metadata": {},
   "outputs": [
    {
     "data": {
      "text/plain": [
       "0.3203125"
      ]
     },
     "execution_count": 51,
     "metadata": {},
     "output_type": "execute_result"
    }
   ],
   "source": [
    "corrects.float().mean().item()"
   ]
  },
  {
   "cell_type": "markdown",
   "id": "00588123",
   "metadata": {},
   "source": [
    "# LOSS CALCULATION"
   ]
  },
  {
   "cell_type": "code",
   "execution_count": 52,
   "id": "a86d1091",
   "metadata": {},
   "outputs": [],
   "source": [
    "def mnist_loss(predictions,targets):\n",
    "    predictions = predictions.sigmoid()\n",
    "    return torch.where(targets==1, (1-predictions), predictions).mean()"
   ]
  },
  {
   "cell_type": "code",
   "execution_count": 53,
   "id": "7ffd5ea2",
   "metadata": {},
   "outputs": [],
   "source": [
    "loss = mnist_loss(corrects,yb)"
   ]
  },
  {
   "cell_type": "markdown",
   "id": "6cc55be8",
   "metadata": {},
   "source": [
    "# GRADIENT"
   ]
  },
  {
   "cell_type": "code",
   "execution_count": 54,
   "id": "19719683",
   "metadata": {},
   "outputs": [],
   "source": [
    "def calc_grad(x,y,model):\n",
    "    preds = model(x)\n",
    "    loss = mnist_loss(preds,y)\n",
    "    loss.backward()\n",
    "    "
   ]
  },
  {
   "cell_type": "code",
   "execution_count": 55,
   "id": "d1118159",
   "metadata": {},
   "outputs": [],
   "source": [
    "calc_grad(xb,yb,linear1)"
   ]
  },
  {
   "cell_type": "code",
   "execution_count": 56,
   "id": "d517f1df",
   "metadata": {},
   "outputs": [
    {
     "data": {
      "text/plain": [
       "(torch.Size([784, 1]), tensor(-0.0029), tensor([-0.0199]))"
      ]
     },
     "execution_count": 56,
     "metadata": {},
     "output_type": "execute_result"
    }
   ],
   "source": [
    "weights.grad.shape,weights.grad.mean(),bias.grad"
   ]
  },
  {
   "cell_type": "code",
   "execution_count": 57,
   "id": "9e93b3f5",
   "metadata": {},
   "outputs": [],
   "source": [
    "weights.grad.zero_(),bias.grad.zero_();"
   ]
  },
  {
   "cell_type": "code",
   "execution_count": 58,
   "id": "1c839f7f",
   "metadata": {},
   "outputs": [],
   "source": [
    "def train_epoch(model,lr,params):\n",
    "    for x,y in dl:\n",
    "        calc_grad(x,y,model)\n",
    "        for p in params:\n",
    "            p.data -= p.grad*lr\n",
    "            p.grad.zero_()"
   ]
  },
  {
   "cell_type": "code",
   "execution_count": 59,
   "id": "70cd269b",
   "metadata": {},
   "outputs": [],
   "source": [
    "def batch_accuracy(xb, yb):\n",
    "    preds = xb.sigmoid()\n",
    "    correct = (preds>0.5) == yb\n",
    "    return correct.float().mean()"
   ]
  },
  {
   "cell_type": "code",
   "execution_count": 60,
   "id": "849c56f2",
   "metadata": {},
   "outputs": [
    {
     "data": {
      "text/plain": [
       "tensor(0.3242)"
      ]
     },
     "execution_count": 60,
     "metadata": {},
     "output_type": "execute_result"
    }
   ],
   "source": [
    "batch_accuracy(linear1(xb), yb)"
   ]
  },
  {
   "cell_type": "code",
   "execution_count": 61,
   "id": "6f55a66a",
   "metadata": {},
   "outputs": [],
   "source": [
    "def validate_epoch(model):\n",
    "    accs = [batch_accuracy(model(v_xb), v_yb) for v_xb,v_yb in valid_dl]\n",
    "    return round(torch.stack(accs).mean().item(), 4)"
   ]
  },
  {
   "cell_type": "code",
   "execution_count": 62,
   "id": "5eae5eed",
   "metadata": {},
   "outputs": [
    {
     "data": {
      "text/plain": [
       "0.3109"
      ]
     },
     "execution_count": 62,
     "metadata": {},
     "output_type": "execute_result"
    }
   ],
   "source": [
    "validate_epoch(linear1)"
   ]
  },
  {
   "cell_type": "code",
   "execution_count": 63,
   "id": "cd5cb975",
   "metadata": {},
   "outputs": [
    {
     "data": {
      "text/plain": [
       "0.4096"
      ]
     },
     "execution_count": 63,
     "metadata": {},
     "output_type": "execute_result"
    }
   ],
   "source": [
    "lr = 1e-1\n",
    "params = weights,bias\n",
    "train_epoch(linear1, lr, params)\n",
    "validate_epoch(linear1)"
   ]
  },
  {
   "cell_type": "code",
   "execution_count": 64,
   "id": "50367363",
   "metadata": {},
   "outputs": [
    {
     "name": "stdout",
     "output_type": "stream",
     "text": [
      "0.4563 0.4724 0.4789 0.4832 0.4868 0.4882 0.4892 0.4899 0.4911 0.4921 0.4924 0.4919 0.4926 0.4933 0.4941 0.494 0.4945 0.4949 0.4947 0.4953 0.4951 0.4949 0.4951 0.4951 0.4952 0.4955 0.4951 0.4951 0.4951 0.4952 0.4951 0.4948 0.4948 0.4951 0.4955 0.4957 0.4957 0.4955 0.4958 0.4956 0.4957 0.4955 0.4959 0.4958 0.4956 0.496 0.4956 0.4955 0.4956 0.4955 0.4957 0.4953 0.4957 0.4957 0.4959 0.4956 0.4955 0.4958 0.4955 0.4955 0.4955 0.4955 0.4955 0.4954 0.4956 0.4954 0.4956 0.4954 0.4954 0.4957 0.4957 0.4955 0.4954 0.4954 0.4956 0.4955 0.4957 0.4957 0.4957 0.4955 0.4957 0.4956 0.4956 0.4957 0.4956 0.4956 0.4954 0.4957 0.4954 0.4956 0.4957 0.4954 0.4958 0.4957 0.4957 0.4956 0.4956 0.4956 0.4954 0.4956 0.4955 0.4955 0.4956 0.4953 0.4955 0.4957 0.4958 0.4957 0.4953 0.4955 0.4955 0.4957 0.4957 0.4955 0.4956 0.4956 0.4958 0.4957 0.4955 0.4956 0.4957 0.4956 0.4955 0.4955 0.4953 0.4953 0.4954 0.4955 0.4956 0.4956 0.4957 0.4956 0.4956 0.4953 0.4956 0.4957 0.4956 0.4958 0.4953 0.4956 0.4956 0.4956 0.4956 0.4955 0.4955 0.4956 0.4956 0.4956 0.4954 0.4954 0.4954 0.4955 0.4957 0.4958 0.4954 0.4951 0.4955 0.4955 0.4957 0.4953 0.4958 0.4957 0.4956 0.4956 0.4957 0.4957 0.496 0.4962 0.4962 0.4957 0.4961 0.4961 0.496 0.4961 0.4963 0.4961 0.4961 0.496 0.4961 0.4962 0.496 0.4961 0.4963 0.4962 0.4961 0.4961 0.4962 0.4959 0.4964 0.4963 0.4963 0.4958 0.4962 0.496 0.4961 0.4961 0.496 0.4958 0.496 0.496 0.4962 0.4962 0.4961 0.4959 0.4962 0.4959 0.4961 0.4961 0.496 0.4961 0.4964 0.4964 0.4962 0.4964 0.4961 0.4961 0.4958 0.496 0.4962 0.4962 0.4956 0.4962 0.4962 0.4964 0.4961 0.4961 0.4963 0.4959 0.4962 0.4963 0.4957 0.4959 0.4962 0.4962 0.496 0.4961 0.4961 0.496 0.496 0.4966 0.4969 0.4969 0.4969 0.4965 0.4978 0.4979 0.4985 0.4997 0.5023 0.5037 0.5099 0.523 0.5494 0.6028 0.736 0.8277 0.8562 0.8794 0.8885 0.901 0.9034 0.9131 0.9196 0.9243 0.9279 0.9289 0.9318 0.9353 0.9361 0.9371 0.9396 0.9402 0.9407 0.9421 0.9444 0.9455 0.946 0.9476 0.9499 0.9515 0.9525 0.9523 0.9535 0.9539 0.9544 0.9544 0.9544 0.9548 0.9563 0.9573 0.9579 0.9578 0.9583 0.9583 0.9584 0.9588 0.9588 0.9593 0.9592 0.9593 0.9592 0.9593 0.9592 0.9592 0.9598 0.9598 0.9603 0.9601 0.9598 0.9597 0.9603 0.9602 0.9602 0.9607 0.9607 0.9607 0.9607 0.9603 0.9602 0.9603 0.9602 0.9602 0.9606 0.9607 0.9607 0.9608 0.9608 0.9608 0.9608 0.9612 0.9617 0.9617 0.9617 0.9618 0.9616 0.9623 0.9623 0.9627 0.9627 0.9626 0.9632 0.9632 0.9633 0.9632 0.9632 0.9632 0.9632 0.9631 0.9632 0.9632 0.9633 0.9632 0.9632 0.9632 0.9632 0.9637 0.9637 0.9636 0.9632 0.9632 0.9631 0.9632 0.9632 0.9632 0.9641 0.9642 0.9647 0.9646 0.9647 0.9647 0.9662 0.966 0.9661 0.966 0.9666 0.9667 0.9671 0.9675 0.9677 0.9676 0.9681 0.9681 0.9681 0.9681 0.9686 0.9687 0.9686 0.9687 0.9686 0.9686 0.9686 0.9686 0.9686 0.969 0.9691 0.969 0.9691 0.9691 0.9692 0.9691 "
     ]
    }
   ],
   "source": [
    "for i in range(400):\n",
    "    train_epoch(linear1, lr, params)\n",
    "    print(validate_epoch(linear1), end=' ')"
   ]
  },
  {
   "cell_type": "code",
   "execution_count": null,
   "id": "86623902",
   "metadata": {},
   "outputs": [],
   "source": []
  },
  {
   "cell_type": "code",
   "execution_count": null,
   "id": "054efff7",
   "metadata": {},
   "outputs": [],
   "source": []
  }
 ],
 "metadata": {
  "kernelspec": {
   "display_name": "Python 3",
   "language": "python",
   "name": "python3"
  },
  "language_info": {
   "codemirror_mode": {
    "name": "ipython",
    "version": 3
   },
   "file_extension": ".py",
   "mimetype": "text/x-python",
   "name": "python",
   "nbconvert_exporter": "python",
   "pygments_lexer": "ipython3",
   "version": "3.8.2"
  }
 },
 "nbformat": 4,
 "nbformat_minor": 5
}
