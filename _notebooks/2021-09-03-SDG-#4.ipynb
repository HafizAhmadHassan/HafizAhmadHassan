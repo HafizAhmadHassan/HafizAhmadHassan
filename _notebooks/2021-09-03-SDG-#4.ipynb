{
 "cells": [
  {
   "cell_type": "markdown",
   "id": "43637963",
   "metadata": {},
   "source": [
    "# 2. Neural Network From Scratch\n",
    "> A tutorial for beginners with Pytorch and FASTAI you can create your own classifier.\n",
    "\n",
    "- toc: true \n",
    "- badges: true\n",
    "- comments: true\n",
    "- author: HAFIZ AHMAD HASSAN & Jeremy Howard\n",
    "- categories: [jupyter]\n",
    "- image: images/chart-preview.png"
   ]
  },
  {
   "cell_type": "markdown",
   "id": "10e95883",
   "metadata": {},
   "source": [
    "## Neural Network From Scratch Using Pytorch and FAST.AI Capabilities\n",
    "This tutorial is created from Lecture 4 from FAST ai Course **Deep Learning from coders** Course\n",
    "I will go through step by step how to build Classifier using pytorch from scratch.\n",
    "\n"
   ]
  },
  {
   "cell_type": "markdown",
   "id": "c7b3f15c",
   "metadata": {},
   "source": [
    "## Import Packages\n",
    "Un comment \"!pip install -Uqq fastbook\" install if running colab\n"
   ]
  },
  {
   "cell_type": "code",
   "execution_count": 3,
   "id": "0f8f2c6f",
   "metadata": {},
   "outputs": [],
   "source": [
    "# Un comment pip install if running colab\n",
    "#!pip install -Uqq fastbook\n",
    "import fastbook\n",
    "fastbook.setup_book()\n",
    "\n",
    "#hide\n",
    "from fastai.vision.all import *\n",
    "from fastbook import *\n",
    "\n",
    "matplotlib.rc('image', cmap='Greys')"
   ]
  },
  {
   "cell_type": "markdown",
   "id": "51f974b3",
   "metadata": {},
   "source": [
    "## Download Dataset\n",
    "Using Fastai function with **untardata** we are downloading images of 3s and 7s from MNIST dataset\n",
    "it is downloaded as zip file where function unzip it"
   ]
  },
  {
   "cell_type": "code",
   "execution_count": 10,
   "id": "215c09e1",
   "metadata": {},
   "outputs": [],
   "source": [
    "path = untar_data(URLs.MNIST_SAMPLE)"
   ]
  },
  {
   "cell_type": "code",
   "execution_count": 11,
   "id": "df04e34c",
   "metadata": {},
   "outputs": [
    {
     "data": {
      "text/plain": [
       "Path('/home/hassan/.fastai/data/mnist_sample')"
      ]
     },
     "execution_count": 11,
     "metadata": {},
     "output_type": "execute_result"
    }
   ],
   "source": [
    "path"
   ]
  },
  {
   "cell_type": "markdown",
   "id": "e48b6046",
   "metadata": {},
   "source": [
    "## Point to Current Directory to Path"
   ]
  },
  {
   "cell_type": "code",
   "execution_count": 12,
   "id": "caa89d91",
   "metadata": {},
   "outputs": [],
   "source": [
    "Path.BASE_PATH = path"
   ]
  },
  {
   "cell_type": "markdown",
   "id": "e79088df",
   "metadata": {},
   "source": [
    "## Lets see whats inside Path\n",
    "ls is special funtion which returns name of folder inside the path and number of folders as #x where x is count\n"
   ]
  },
  {
   "cell_type": "code",
   "execution_count": 13,
   "id": "54e003bb",
   "metadata": {},
   "outputs": [
    {
     "data": {
      "text/plain": [
       "(#3) [Path('train'),Path('valid'),Path('labels.csv')]"
      ]
     },
     "execution_count": 13,
     "metadata": {},
     "output_type": "execute_result"
    }
   ],
   "source": [
    "path.ls()"
   ]
  },
  {
   "cell_type": "code",
   "execution_count": 14,
   "id": "ce24e28d",
   "metadata": {},
   "outputs": [
    {
     "data": {
      "text/plain": [
       "(#2) [Path('train/7'),Path('train/3')]"
      ]
     },
     "execution_count": 14,
     "metadata": {},
     "output_type": "execute_result"
    }
   ],
   "source": [
    "(path/'train').ls()"
   ]
  },
  {
   "cell_type": "code",
   "execution_count": 15,
   "id": "fe5c5fa1",
   "metadata": {},
   "outputs": [],
   "source": [
    "sevens = (path/'train'/'7').ls().sorted()\n",
    "threes = (path/'train'/'3').ls().sorted()\n"
   ]
  },
  {
   "cell_type": "code",
   "execution_count": 16,
   "id": "da63b779",
   "metadata": {},
   "outputs": [
    {
     "data": {
      "text/plain": [
       "(#6265) [Path('train/7/10002.png'),Path('train/7/1001.png'),Path('train/7/10014.png'),Path('train/7/10019.png'),Path('train/7/10039.png'),Path('train/7/10046.png'),Path('train/7/10050.png'),Path('train/7/10063.png'),Path('train/7/10077.png'),Path('train/7/10086.png')...]"
      ]
     },
     "execution_count": 16,
     "metadata": {},
     "output_type": "execute_result"
    }
   ],
   "source": [
    "sevens"
   ]
  },
  {
   "cell_type": "markdown",
   "id": "d391f901",
   "metadata": {},
   "source": [
    "## Differnet methods to See Pic\n",
    "\n",
    "Picture is actually represented as matrix of 3 dimension i.e (x,y,z) where z=1 or null in case of grey scale Usually it is 2 dimention\n",
    "and z=3 in case of RBG (colored image) and x and y are real numbers"
   ]
  },
  {
   "cell_type": "markdown",
   "id": "e65c2a00",
   "metadata": {},
   "source": [
    "Lets do following\n",
    "1. Read/Get a path of image\n",
    "2. Pass it to Image opener by python library"
   ]
  },
  {
   "cell_type": "code",
   "execution_count": 17,
   "id": "31d9adb9",
   "metadata": {},
   "outputs": [
    {
     "data": {
      "image/png": "[encoded data removed]",
      "text/plain": [
       "<PIL.PngImagePlugin.PngImageFile image mode=L size=28x28 at 0x7F40B09DB5E0>"
      ]
     },
     "execution_count": 17,
     "metadata": {},
     "output_type": "execute_result"
    }
   ],
   "source": [
    "im3_path = threes[1]\n",
    "im3 = Image.open(im3_path)\n",
    "im3"
   ]
  },
  {
   "cell_type": "markdown",
   "id": "fb534f75",
   "metadata": {},
   "source": [
    "## See image as Array"
   ]
  },
  {
   "cell_type": "code",
   "execution_count": 18,
   "id": "4bca4b2d",
   "metadata": {},
   "outputs": [
    {
     "data": {
      "text/plain": [
       "array([[  0,   0,   0,   0,   0,   0],\n",
       "       [  0,   0,   0,   0,   0,  29],\n",
       "       [  0,   0,   0,  48, 166, 224],\n",
       "       [  0,  93, 244, 249, 253, 187],\n",
       "       [  0, 107, 253, 253, 230,  48],\n",
       "       [  0,   3,  20,  20,  15,   0]], dtype=uint8)"
      ]
     },
     "execution_count": 18,
     "metadata": {},
     "output_type": "execute_result"
    }
   ],
   "source": [
    "array(im3)[4:10,4:10]"
   ]
  },
  {
   "cell_type": "markdown",
   "id": "1dd4c59a",
   "metadata": {},
   "source": [
    "## Tensors are Array in Pytorch\n",
    "The 4:10 indicates we requested the rows from index 4 (included) to 10 (not included)"
   ]
  },
  {
   "cell_type": "code",
   "execution_count": 19,
   "id": "6dcf3f12",
   "metadata": {},
   "outputs": [
    {
     "data": {
      "text/plain": [
       "tensor([[  0,   0,   0,   0,   0,   0],\n",
       "        [  0,   0,   0,   0,   0,  29],\n",
       "        [  0,   0,   0,  48, 166, 224],\n",
       "        [  0,  93, 244, 249, 253, 187],\n",
       "        [  0, 107, 253, 253, 230,  48],\n",
       "        [  0,   3,  20,  20,  15,   0]], dtype=torch.uint8)"
      ]
     },
     "execution_count": 19,
     "metadata": {},
     "output_type": "execute_result"
    }
   ],
   "source": [
    "tensor(im3)[4:10,4:10]"
   ]
  },
  {
   "cell_type": "markdown",
   "id": "8d6df049",
   "metadata": {},
   "source": [
    "## Lets see image in a fancy way\n",
    "1. Tensor casted as python data frame and style property allow us to visualise it in a good way"
   ]
  },
  {
   "cell_type": "code",
   "execution_count": 20,
   "id": "79e6c8d2",
   "metadata": {},
   "outputs": [
    {
     "data": {
      "text/html": [
       "<style type=\"text/css\">\n",
       "#T_52e18_row0_col0, #T_52e18_row0_col1, #T_52e18_row0_col2, #T_52e18_row0_col3, #T_52e18_row0_col4, #T_52e18_row0_col5, #T_52e18_row0_col6, #T_52e18_row0_col7, #T_52e18_row0_col8, #T_52e18_row0_col9, #T_52e18_row0_col10, #T_52e18_row0_col11, #T_52e18_row0_col12, #T_52e18_row0_col13, #T_52e18_row0_col14, #T_52e18_row0_col15, #T_52e18_row0_col16, #T_52e18_row0_col17, #T_52e18_row0_col18, #T_52e18_row1_col0, #T_52e18_row1_col1, #T_52e18_row1_col2, #T_52e18_row1_col3, #T_52e18_row1_col4, #T_52e18_row1_col5, #T_52e18_row1_col16, #T_52e18_row1_col17, #T_52e18_row1_col18, #T_52e18_row2_col0, #T_52e18_row2_col1, #T_52e18_row2_col2, #T_52e18_row2_col3, #T_52e18_row2_col16, #T_52e18_row2_col17, #T_52e18_row2_col18, #T_52e18_row3_col0, #T_52e18_row3_col1, #T_52e18_row3_col16, #T_52e18_row3_col17, #T_52e18_row3_col18, #T_52e18_row4_col0, #T_52e18_row4_col1, #T_52e18_row4_col7, #T_52e18_row4_col8, #T_52e18_row4_col9, #T_52e18_row4_col10, #T_52e18_row4_col11, #T_52e18_row4_col16, #T_52e18_row4_col17, #T_52e18_row4_col18, #T_52e18_row5_col0, #T_52e18_row5_col1, #T_52e18_row5_col6, #T_52e18_row5_col7, #T_52e18_row5_col8, #T_52e18_row5_col9, #T_52e18_row5_col10, #T_52e18_row5_col16, #T_52e18_row5_col17, #T_52e18_row5_col18, #T_52e18_row6_col0, #T_52e18_row6_col1, #T_52e18_row6_col2, #T_52e18_row6_col3, #T_52e18_row6_col4, #T_52e18_row6_col5, #T_52e18_row6_col6, #T_52e18_row6_col7, #T_52e18_row6_col8, #T_52e18_row6_col9, #T_52e18_row6_col10, #T_52e18_row6_col15, #T_52e18_row6_col16, #T_52e18_row6_col17, #T_52e18_row6_col18, #T_52e18_row7_col0, #T_52e18_row7_col1, #T_52e18_row7_col2, #T_52e18_row7_col3, #T_52e18_row7_col4, #T_52e18_row7_col5, #T_52e18_row7_col6, #T_52e18_row7_col7, #T_52e18_row7_col14, #T_52e18_row7_col15, #T_52e18_row7_col16, #T_52e18_row7_col17, #T_52e18_row7_col18, #T_52e18_row8_col0, #T_52e18_row8_col1, #T_52e18_row8_col2, #T_52e18_row8_col3, #T_52e18_row8_col4, #T_52e18_row8_col5, #T_52e18_row8_col14, #T_52e18_row8_col15, #T_52e18_row8_col16, #T_52e18_row8_col17, #T_52e18_row8_col18, #T_52e18_row9_col0, #T_52e18_row9_col1, #T_52e18_row9_col2, #T_52e18_row9_col3, #T_52e18_row9_col4, #T_52e18_row9_col5, #T_52e18_row9_col17, #T_52e18_row9_col18, #T_52e18_row10_col0, #T_52e18_row10_col1, #T_52e18_row10_col2, #T_52e18_row10_col3, #T_52e18_row10_col4, #T_52e18_row10_col5, #T_52e18_row10_col6, #T_52e18_row10_col7, #T_52e18_row10_col18 {\n",
       "  font-size: 6pt;\n",
       "  background-color: #ffffff;\n",
       "  color: #000000;\n",
       "}\n",
       "#T_52e18_row1_col6 {\n",
       "  font-size: 6pt;\n",
       "  background-color: #efefef;\n",
       "  color: #000000;\n",
       "}\n",
       "#T_52e18_row1_col7, #T_52e18_row1_col14 {\n",
       "  font-size: 6pt;\n",
       "  background-color: #7c7c7c;\n",
       "  color: #f1f1f1;\n",
       "}\n",
       "#T_52e18_row1_col8 {\n",
       "  font-size: 6pt;\n",
       "  background-color: #4a4a4a;\n",
       "  color: #f1f1f1;\n",
       "}\n",
       "#T_52e18_row1_col9, #T_52e18_row1_col10, #T_52e18_row1_col11, #T_52e18_row2_col6, #T_52e18_row2_col7, #T_52e18_row2_col8, #T_52e18_row2_col12, #T_52e18_row2_col13, #T_52e18_row2_col14, #T_52e18_row3_col5, #T_52e18_row3_col13, #T_52e18_row3_col14, #T_52e18_row4_col2, #T_52e18_row4_col3, #T_52e18_row4_col4, #T_52e18_row4_col13, #T_52e18_row4_col14, #T_52e18_row5_col13, #T_52e18_row6_col12, #T_52e18_row9_col12, #T_52e18_row10_col12, #T_52e18_row10_col13, #T_52e18_row10_col14, #T_52e18_row10_col15, #T_52e18_row10_col16, #T_52e18_row10_col17 {\n",
       "  font-size: 6pt;\n",
       "  background-color: #000000;\n",
       "  color: #f1f1f1;\n",
       "}\n",
       "#T_52e18_row1_col12 {\n",
       "  font-size: 6pt;\n",
       "  background-color: #606060;\n",
       "  color: #f1f1f1;\n",
       "}\n",
       "#T_52e18_row1_col13 {\n",
       "  font-size: 6pt;\n",
       "  background-color: #4d4d4d;\n",
       "  color: #f1f1f1;\n",
       "}\n",
       "#T_52e18_row1_col15 {\n",
       "  font-size: 6pt;\n",
       "  background-color: #bbbbbb;\n",
       "  color: #000000;\n",
       "}\n",
       "#T_52e18_row2_col4 {\n",
       "  font-size: 6pt;\n",
       "  background-color: #e4e4e4;\n",
       "  color: #000000;\n",
       "}\n",
       "#T_52e18_row2_col5, #T_52e18_row8_col7 {\n",
       "  font-size: 6pt;\n",
       "  background-color: #6b6b6b;\n",
       "  color: #f1f1f1;\n",
       "}\n",
       "#T_52e18_row2_col9, #T_52e18_row2_col15, #T_52e18_row3_col15 {\n",
       "  font-size: 6pt;\n",
       "  background-color: #171717;\n",
       "  color: #f1f1f1;\n",
       "}\n",
       "#T_52e18_row2_col10, #T_52e18_row3_col12 {\n",
       "  font-size: 6pt;\n",
       "  background-color: #4b4b4b;\n",
       "  color: #f1f1f1;\n",
       "}\n",
       "#T_52e18_row2_col11, #T_52e18_row7_col11, #T_52e18_row8_col9, #T_52e18_row8_col11, #T_52e18_row9_col9, #T_52e18_row9_col11 {\n",
       "  font-size: 6pt;\n",
       "  background-color: #010101;\n",
       "  color: #f1f1f1;\n",
       "}\n",
       "#T_52e18_row3_col2 {\n",
       "  font-size: 6pt;\n",
       "  background-color: #272727;\n",
       "  color: #f1f1f1;\n",
       "}\n",
       "#T_52e18_row3_col3 {\n",
       "  font-size: 6pt;\n",
       "  background-color: #0a0a0a;\n",
       "  color: #f1f1f1;\n",
       "}\n",
       "#T_52e18_row3_col4 {\n",
       "  font-size: 6pt;\n",
       "  background-color: #050505;\n",
       "  color: #f1f1f1;\n",
       "}\n",
       "#T_52e18_row3_col6 {\n",
       "  font-size: 6pt;\n",
       "  background-color: #333333;\n",
       "  color: #f1f1f1;\n",
       "}\n",
       "#T_52e18_row3_col7 {\n",
       "  font-size: 6pt;\n",
       "  background-color: #e6e6e6;\n",
       "  color: #000000;\n",
       "}\n",
       "#T_52e18_row3_col8, #T_52e18_row3_col11 {\n",
       "  font-size: 6pt;\n",
       "  background-color: #fafafa;\n",
       "  color: #000000;\n",
       "}\n",
       "#T_52e18_row3_col9 {\n",
       "  font-size: 6pt;\n",
       "  background-color: #fbfbfb;\n",
       "  color: #000000;\n",
       "}\n",
       "#T_52e18_row3_col10 {\n",
       "  font-size: 6pt;\n",
       "  background-color: #fdfdfd;\n",
       "  color: #000000;\n",
       "}\n",
       "#T_52e18_row4_col5 {\n",
       "  font-size: 6pt;\n",
       "  background-color: #1b1b1b;\n",
       "  color: #f1f1f1;\n",
       "}\n",
       "#T_52e18_row4_col6 {\n",
       "  font-size: 6pt;\n",
       "  background-color: #e0e0e0;\n",
       "  color: #000000;\n",
       "}\n",
       "#T_52e18_row4_col12 {\n",
       "  font-size: 6pt;\n",
       "  background-color: #4e4e4e;\n",
       "  color: #f1f1f1;\n",
       "}\n",
       "#T_52e18_row4_col15 {\n",
       "  font-size: 6pt;\n",
       "  background-color: #767676;\n",
       "  color: #f1f1f1;\n",
       "}\n",
       "#T_52e18_row5_col2 {\n",
       "  font-size: 6pt;\n",
       "  background-color: #fcfcfc;\n",
       "  color: #000000;\n",
       "}\n",
       "#T_52e18_row5_col3, #T_52e18_row5_col4 {\n",
       "  font-size: 6pt;\n",
       "  background-color: #f6f6f6;\n",
       "  color: #000000;\n",
       "}\n",
       "#T_52e18_row5_col5, #T_52e18_row7_col8 {\n",
       "  font-size: 6pt;\n",
       "  background-color: #f8f8f8;\n",
       "  color: #000000;\n",
       "}\n",
       "#T_52e18_row5_col11, #T_52e18_row10_col8 {\n",
       "  font-size: 6pt;\n",
       "  background-color: #e8e8e8;\n",
       "  color: #000000;\n",
       "}\n",
       "#T_52e18_row5_col12 {\n",
       "  font-size: 6pt;\n",
       "  background-color: #222222;\n",
       "  color: #f1f1f1;\n",
       "}\n",
       "#T_52e18_row5_col14, #T_52e18_row6_col13 {\n",
       "  font-size: 6pt;\n",
       "  background-color: #090909;\n",
       "  color: #f1f1f1;\n",
       "}\n",
       "#T_52e18_row5_col15 {\n",
       "  font-size: 6pt;\n",
       "  background-color: #d0d0d0;\n",
       "  color: #000000;\n",
       "}\n",
       "#T_52e18_row6_col11, #T_52e18_row7_col12, #T_52e18_row9_col7 {\n",
       "  font-size: 6pt;\n",
       "  background-color: #060606;\n",
       "  color: #f1f1f1;\n",
       "}\n",
       "#T_52e18_row6_col14 {\n",
       "  font-size: 6pt;\n",
       "  background-color: #979797;\n",
       "  color: #f1f1f1;\n",
       "}\n",
       "#T_52e18_row7_col9 {\n",
       "  font-size: 6pt;\n",
       "  background-color: #b6b6b6;\n",
       "  color: #000000;\n",
       "}\n",
       "#T_52e18_row7_col10 {\n",
       "  font-size: 6pt;\n",
       "  background-color: #252525;\n",
       "  color: #f1f1f1;\n",
       "}\n",
       "#T_52e18_row7_col13 {\n",
       "  font-size: 6pt;\n",
       "  background-color: #999999;\n",
       "  color: #f1f1f1;\n",
       "}\n",
       "#T_52e18_row8_col6 {\n",
       "  font-size: 6pt;\n",
       "  background-color: #f9f9f9;\n",
       "  color: #000000;\n",
       "}\n",
       "#T_52e18_row8_col8 {\n",
       "  font-size: 6pt;\n",
       "  background-color: #101010;\n",
       "  color: #f1f1f1;\n",
       "}\n",
       "#T_52e18_row8_col10, #T_52e18_row9_col10 {\n",
       "  font-size: 6pt;\n",
       "  background-color: #020202;\n",
       "  color: #f1f1f1;\n",
       "}\n",
       "#T_52e18_row8_col12 {\n",
       "  font-size: 6pt;\n",
       "  background-color: #545454;\n",
       "  color: #f1f1f1;\n",
       "}\n",
       "#T_52e18_row8_col13 {\n",
       "  font-size: 6pt;\n",
       "  background-color: #f1f1f1;\n",
       "  color: #000000;\n",
       "}\n",
       "#T_52e18_row9_col6 {\n",
       "  font-size: 6pt;\n",
       "  background-color: #f7f7f7;\n",
       "  color: #000000;\n",
       "}\n",
       "#T_52e18_row9_col8 {\n",
       "  font-size: 6pt;\n",
       "  background-color: #030303;\n",
       "  color: #f1f1f1;\n",
       "}\n",
       "#T_52e18_row9_col13 {\n",
       "  font-size: 6pt;\n",
       "  background-color: #181818;\n",
       "  color: #f1f1f1;\n",
       "}\n",
       "#T_52e18_row9_col14 {\n",
       "  font-size: 6pt;\n",
       "  background-color: #303030;\n",
       "  color: #f1f1f1;\n",
       "}\n",
       "#T_52e18_row9_col15 {\n",
       "  font-size: 6pt;\n",
       "  background-color: #a9a9a9;\n",
       "  color: #f1f1f1;\n",
       "}\n",
       "#T_52e18_row9_col16 {\n",
       "  font-size: 6pt;\n",
       "  background-color: #fefefe;\n",
       "  color: #000000;\n",
       "}\n",
       "#T_52e18_row10_col9, #T_52e18_row10_col10 {\n",
       "  font-size: 6pt;\n",
       "  background-color: #bababa;\n",
       "  color: #000000;\n",
       "}\n",
       "#T_52e18_row10_col11 {\n",
       "  font-size: 6pt;\n",
       "  background-color: #393939;\n",
       "  color: #f1f1f1;\n",
       "}\n",
       "</style>\n",
       "<table id=\"T_52e18_\">\n",
       "  <thead>\n",
       "    <tr>\n",
       "      <th class=\"blank level0\" >&nbsp;</th>\n",
       "      <th class=\"col_heading level0 col0\" >0</th>\n",
       "      <th class=\"col_heading level0 col1\" >1</th>\n",
       "      <th class=\"col_heading level0 col2\" >2</th>\n",
       "      <th class=\"col_heading level0 col3\" >3</th>\n",
       "      <th class=\"col_heading level0 col4\" >4</th>\n",
       "      <th class=\"col_heading level0 col5\" >5</th>\n",
       "      <th class=\"col_heading level0 col6\" >6</th>\n",
       "      <th class=\"col_heading level0 col7\" >7</th>\n",
       "      <th class=\"col_heading level0 col8\" >8</th>\n",
       "      <th class=\"col_heading level0 col9\" >9</th>\n",
       "      <th class=\"col_heading level0 col10\" >10</th>\n",
       "      <th class=\"col_heading level0 col11\" >11</th>\n",
       "      <th class=\"col_heading level0 col12\" >12</th>\n",
       "      <th class=\"col_heading level0 col13\" >13</th>\n",
       "      <th class=\"col_heading level0 col14\" >14</th>\n",
       "      <th class=\"col_heading level0 col15\" >15</th>\n",
       "      <th class=\"col_heading level0 col16\" >16</th>\n",
       "      <th class=\"col_heading level0 col17\" >17</th>\n",
       "      <th class=\"col_heading level0 col18\" >18</th>\n",
       "    </tr>\n",
       "  </thead>\n",
       "  <tbody>\n",
       "    <tr>\n",
       "      <th id=\"T_52e18_level0_row0\" class=\"row_heading level0 row0\" >0</th>\n",
       "      <td id=\"T_52e18_row0_col0\" class=\"data row0 col0\" >0</td>\n",
       "      <td id=\"T_52e18_row0_col1\" class=\"data row0 col1\" >0</td>\n",
       "      <td id=\"T_52e18_row0_col2\" class=\"data row0 col2\" >0</td>\n",
       "      <td id=\"T_52e18_row0_col3\" class=\"data row0 col3\" >0</td>\n",
       "      <td id=\"T_52e18_row0_col4\" class=\"data row0 col4\" >0</td>\n",
       "      <td id=\"T_52e18_row0_col5\" class=\"data row0 col5\" >0</td>\n",
       "      <td id=\"T_52e18_row0_col6\" class=\"data row0 col6\" >0</td>\n",
       "      <td id=\"T_52e18_row0_col7\" class=\"data row0 col7\" >0</td>\n",
       "      <td id=\"T_52e18_row0_col8\" class=\"data row0 col8\" >0</td>\n",
       "      <td id=\"T_52e18_row0_col9\" class=\"data row0 col9\" >0</td>\n",
       "      <td id=\"T_52e18_row0_col10\" class=\"data row0 col10\" >0</td>\n",
       "      <td id=\"T_52e18_row0_col11\" class=\"data row0 col11\" >0</td>\n",
       "      <td id=\"T_52e18_row0_col12\" class=\"data row0 col12\" >0</td>\n",
       "      <td id=\"T_52e18_row0_col13\" class=\"data row0 col13\" >0</td>\n",
       "      <td id=\"T_52e18_row0_col14\" class=\"data row0 col14\" >0</td>\n",
       "      <td id=\"T_52e18_row0_col15\" class=\"data row0 col15\" >0</td>\n",
       "      <td id=\"T_52e18_row0_col16\" class=\"data row0 col16\" >0</td>\n",
       "      <td id=\"T_52e18_row0_col17\" class=\"data row0 col17\" >0</td>\n",
       "      <td id=\"T_52e18_row0_col18\" class=\"data row0 col18\" >0</td>\n",
       "    </tr>\n",
       "    <tr>\n",
       "      <th id=\"T_52e18_level0_row1\" class=\"row_heading level0 row1\" >1</th>\n",
       "      <td id=\"T_52e18_row1_col0\" class=\"data row1 col0\" >0</td>\n",
       "      <td id=\"T_52e18_row1_col1\" class=\"data row1 col1\" >0</td>\n",
       "      <td id=\"T_52e18_row1_col2\" class=\"data row1 col2\" >0</td>\n",
       "      <td id=\"T_52e18_row1_col3\" class=\"data row1 col3\" >0</td>\n",
       "      <td id=\"T_52e18_row1_col4\" class=\"data row1 col4\" >0</td>\n",
       "      <td id=\"T_52e18_row1_col5\" class=\"data row1 col5\" >0</td>\n",
       "      <td id=\"T_52e18_row1_col6\" class=\"data row1 col6\" >29</td>\n",
       "      <td id=\"T_52e18_row1_col7\" class=\"data row1 col7\" >150</td>\n",
       "      <td id=\"T_52e18_row1_col8\" class=\"data row1 col8\" >195</td>\n",
       "      <td id=\"T_52e18_row1_col9\" class=\"data row1 col9\" >254</td>\n",
       "      <td id=\"T_52e18_row1_col10\" class=\"data row1 col10\" >255</td>\n",
       "      <td id=\"T_52e18_row1_col11\" class=\"data row1 col11\" >254</td>\n",
       "      <td id=\"T_52e18_row1_col12\" class=\"data row1 col12\" >176</td>\n",
       "      <td id=\"T_52e18_row1_col13\" class=\"data row1 col13\" >193</td>\n",
       "      <td id=\"T_52e18_row1_col14\" class=\"data row1 col14\" >150</td>\n",
       "      <td id=\"T_52e18_row1_col15\" class=\"data row1 col15\" >96</td>\n",
       "      <td id=\"T_52e18_row1_col16\" class=\"data row1 col16\" >0</td>\n",
       "      <td id=\"T_52e18_row1_col17\" class=\"data row1 col17\" >0</td>\n",
       "      <td id=\"T_52e18_row1_col18\" class=\"data row1 col18\" >0</td>\n",
       "    </tr>\n",
       "    <tr>\n",
       "      <th id=\"T_52e18_level0_row2\" class=\"row_heading level0 row2\" >2</th>\n",
       "      <td id=\"T_52e18_row2_col0\" class=\"data row2 col0\" >0</td>\n",
       "      <td id=\"T_52e18_row2_col1\" class=\"data row2 col1\" >0</td>\n",
       "      <td id=\"T_52e18_row2_col2\" class=\"data row2 col2\" >0</td>\n",
       "      <td id=\"T_52e18_row2_col3\" class=\"data row2 col3\" >0</td>\n",
       "      <td id=\"T_52e18_row2_col4\" class=\"data row2 col4\" >48</td>\n",
       "      <td id=\"T_52e18_row2_col5\" class=\"data row2 col5\" >166</td>\n",
       "      <td id=\"T_52e18_row2_col6\" class=\"data row2 col6\" >224</td>\n",
       "      <td id=\"T_52e18_row2_col7\" class=\"data row2 col7\" >253</td>\n",
       "      <td id=\"T_52e18_row2_col8\" class=\"data row2 col8\" >253</td>\n",
       "      <td id=\"T_52e18_row2_col9\" class=\"data row2 col9\" >234</td>\n",
       "      <td id=\"T_52e18_row2_col10\" class=\"data row2 col10\" >196</td>\n",
       "      <td id=\"T_52e18_row2_col11\" class=\"data row2 col11\" >253</td>\n",
       "      <td id=\"T_52e18_row2_col12\" class=\"data row2 col12\" >253</td>\n",
       "      <td id=\"T_52e18_row2_col13\" class=\"data row2 col13\" >253</td>\n",
       "      <td id=\"T_52e18_row2_col14\" class=\"data row2 col14\" >253</td>\n",
       "      <td id=\"T_52e18_row2_col15\" class=\"data row2 col15\" >233</td>\n",
       "      <td id=\"T_52e18_row2_col16\" class=\"data row2 col16\" >0</td>\n",
       "      <td id=\"T_52e18_row2_col17\" class=\"data row2 col17\" >0</td>\n",
       "      <td id=\"T_52e18_row2_col18\" class=\"data row2 col18\" >0</td>\n",
       "    </tr>\n",
       "    <tr>\n",
       "      <th id=\"T_52e18_level0_row3\" class=\"row_heading level0 row3\" >3</th>\n",
       "      <td id=\"T_52e18_row3_col0\" class=\"data row3 col0\" >0</td>\n",
       "      <td id=\"T_52e18_row3_col1\" class=\"data row3 col1\" >0</td>\n",
       "      <td id=\"T_52e18_row3_col2\" class=\"data row3 col2\" >93</td>\n",
       "      <td id=\"T_52e18_row3_col3\" class=\"data row3 col3\" >244</td>\n",
       "      <td id=\"T_52e18_row3_col4\" class=\"data row3 col4\" >249</td>\n",
       "      <td id=\"T_52e18_row3_col5\" class=\"data row3 col5\" >253</td>\n",
       "      <td id=\"T_52e18_row3_col6\" class=\"data row3 col6\" >187</td>\n",
       "      <td id=\"T_52e18_row3_col7\" class=\"data row3 col7\" >46</td>\n",
       "      <td id=\"T_52e18_row3_col8\" class=\"data row3 col8\" >10</td>\n",
       "      <td id=\"T_52e18_row3_col9\" class=\"data row3 col9\" >8</td>\n",
       "      <td id=\"T_52e18_row3_col10\" class=\"data row3 col10\" >4</td>\n",
       "      <td id=\"T_52e18_row3_col11\" class=\"data row3 col11\" >10</td>\n",
       "      <td id=\"T_52e18_row3_col12\" class=\"data row3 col12\" >194</td>\n",
       "      <td id=\"T_52e18_row3_col13\" class=\"data row3 col13\" >253</td>\n",
       "      <td id=\"T_52e18_row3_col14\" class=\"data row3 col14\" >253</td>\n",
       "      <td id=\"T_52e18_row3_col15\" class=\"data row3 col15\" >233</td>\n",
       "      <td id=\"T_52e18_row3_col16\" class=\"data row3 col16\" >0</td>\n",
       "      <td id=\"T_52e18_row3_col17\" class=\"data row3 col17\" >0</td>\n",
       "      <td id=\"T_52e18_row3_col18\" class=\"data row3 col18\" >0</td>\n",
       "    </tr>\n",
       "    <tr>\n",
       "      <th id=\"T_52e18_level0_row4\" class=\"row_heading level0 row4\" >4</th>\n",
       "      <td id=\"T_52e18_row4_col0\" class=\"data row4 col0\" >0</td>\n",
       "      <td id=\"T_52e18_row4_col1\" class=\"data row4 col1\" >0</td>\n",
       "      <td id=\"T_52e18_row4_col2\" class=\"data row4 col2\" >107</td>\n",
       "      <td id=\"T_52e18_row4_col3\" class=\"data row4 col3\" >253</td>\n",
       "      <td id=\"T_52e18_row4_col4\" class=\"data row4 col4\" >253</td>\n",
       "      <td id=\"T_52e18_row4_col5\" class=\"data row4 col5\" >230</td>\n",
       "      <td id=\"T_52e18_row4_col6\" class=\"data row4 col6\" >48</td>\n",
       "      <td id=\"T_52e18_row4_col7\" class=\"data row4 col7\" >0</td>\n",
       "      <td id=\"T_52e18_row4_col8\" class=\"data row4 col8\" >0</td>\n",
       "      <td id=\"T_52e18_row4_col9\" class=\"data row4 col9\" >0</td>\n",
       "      <td id=\"T_52e18_row4_col10\" class=\"data row4 col10\" >0</td>\n",
       "      <td id=\"T_52e18_row4_col11\" class=\"data row4 col11\" >0</td>\n",
       "      <td id=\"T_52e18_row4_col12\" class=\"data row4 col12\" >192</td>\n",
       "      <td id=\"T_52e18_row4_col13\" class=\"data row4 col13\" >253</td>\n",
       "      <td id=\"T_52e18_row4_col14\" class=\"data row4 col14\" >253</td>\n",
       "      <td id=\"T_52e18_row4_col15\" class=\"data row4 col15\" >156</td>\n",
       "      <td id=\"T_52e18_row4_col16\" class=\"data row4 col16\" >0</td>\n",
       "      <td id=\"T_52e18_row4_col17\" class=\"data row4 col17\" >0</td>\n",
       "      <td id=\"T_52e18_row4_col18\" class=\"data row4 col18\" >0</td>\n",
       "    </tr>\n",
       "    <tr>\n",
       "      <th id=\"T_52e18_level0_row5\" class=\"row_heading level0 row5\" >5</th>\n",
       "      <td id=\"T_52e18_row5_col0\" class=\"data row5 col0\" >0</td>\n",
       "      <td id=\"T_52e18_row5_col1\" class=\"data row5 col1\" >0</td>\n",
       "      <td id=\"T_52e18_row5_col2\" class=\"data row5 col2\" >3</td>\n",
       "      <td id=\"T_52e18_row5_col3\" class=\"data row5 col3\" >20</td>\n",
       "      <td id=\"T_52e18_row5_col4\" class=\"data row5 col4\" >20</td>\n",
       "      <td id=\"T_52e18_row5_col5\" class=\"data row5 col5\" >15</td>\n",
       "      <td id=\"T_52e18_row5_col6\" class=\"data row5 col6\" >0</td>\n",
       "      <td id=\"T_52e18_row5_col7\" class=\"data row5 col7\" >0</td>\n",
       "      <td id=\"T_52e18_row5_col8\" class=\"data row5 col8\" >0</td>\n",
       "      <td id=\"T_52e18_row5_col9\" class=\"data row5 col9\" >0</td>\n",
       "      <td id=\"T_52e18_row5_col10\" class=\"data row5 col10\" >0</td>\n",
       "      <td id=\"T_52e18_row5_col11\" class=\"data row5 col11\" >43</td>\n",
       "      <td id=\"T_52e18_row5_col12\" class=\"data row5 col12\" >224</td>\n",
       "      <td id=\"T_52e18_row5_col13\" class=\"data row5 col13\" >253</td>\n",
       "      <td id=\"T_52e18_row5_col14\" class=\"data row5 col14\" >245</td>\n",
       "      <td id=\"T_52e18_row5_col15\" class=\"data row5 col15\" >74</td>\n",
       "      <td id=\"T_52e18_row5_col16\" class=\"data row5 col16\" >0</td>\n",
       "      <td id=\"T_52e18_row5_col17\" class=\"data row5 col17\" >0</td>\n",
       "      <td id=\"T_52e18_row5_col18\" class=\"data row5 col18\" >0</td>\n",
       "    </tr>\n",
       "    <tr>\n",
       "      <th id=\"T_52e18_level0_row6\" class=\"row_heading level0 row6\" >6</th>\n",
       "      <td id=\"T_52e18_row6_col0\" class=\"data row6 col0\" >0</td>\n",
       "      <td id=\"T_52e18_row6_col1\" class=\"data row6 col1\" >0</td>\n",
       "      <td id=\"T_52e18_row6_col2\" class=\"data row6 col2\" >0</td>\n",
       "      <td id=\"T_52e18_row6_col3\" class=\"data row6 col3\" >0</td>\n",
       "      <td id=\"T_52e18_row6_col4\" class=\"data row6 col4\" >0</td>\n",
       "      <td id=\"T_52e18_row6_col5\" class=\"data row6 col5\" >0</td>\n",
       "      <td id=\"T_52e18_row6_col6\" class=\"data row6 col6\" >0</td>\n",
       "      <td id=\"T_52e18_row6_col7\" class=\"data row6 col7\" >0</td>\n",
       "      <td id=\"T_52e18_row6_col8\" class=\"data row6 col8\" >0</td>\n",
       "      <td id=\"T_52e18_row6_col9\" class=\"data row6 col9\" >0</td>\n",
       "      <td id=\"T_52e18_row6_col10\" class=\"data row6 col10\" >0</td>\n",
       "      <td id=\"T_52e18_row6_col11\" class=\"data row6 col11\" >249</td>\n",
       "      <td id=\"T_52e18_row6_col12\" class=\"data row6 col12\" >253</td>\n",
       "      <td id=\"T_52e18_row6_col13\" class=\"data row6 col13\" >245</td>\n",
       "      <td id=\"T_52e18_row6_col14\" class=\"data row6 col14\" >126</td>\n",
       "      <td id=\"T_52e18_row6_col15\" class=\"data row6 col15\" >0</td>\n",
       "      <td id=\"T_52e18_row6_col16\" class=\"data row6 col16\" >0</td>\n",
       "      <td id=\"T_52e18_row6_col17\" class=\"data row6 col17\" >0</td>\n",
       "      <td id=\"T_52e18_row6_col18\" class=\"data row6 col18\" >0</td>\n",
       "    </tr>\n",
       "    <tr>\n",
       "      <th id=\"T_52e18_level0_row7\" class=\"row_heading level0 row7\" >7</th>\n",
       "      <td id=\"T_52e18_row7_col0\" class=\"data row7 col0\" >0</td>\n",
       "      <td id=\"T_52e18_row7_col1\" class=\"data row7 col1\" >0</td>\n",
       "      <td id=\"T_52e18_row7_col2\" class=\"data row7 col2\" >0</td>\n",
       "      <td id=\"T_52e18_row7_col3\" class=\"data row7 col3\" >0</td>\n",
       "      <td id=\"T_52e18_row7_col4\" class=\"data row7 col4\" >0</td>\n",
       "      <td id=\"T_52e18_row7_col5\" class=\"data row7 col5\" >0</td>\n",
       "      <td id=\"T_52e18_row7_col6\" class=\"data row7 col6\" >0</td>\n",
       "      <td id=\"T_52e18_row7_col7\" class=\"data row7 col7\" >0</td>\n",
       "      <td id=\"T_52e18_row7_col8\" class=\"data row7 col8\" >14</td>\n",
       "      <td id=\"T_52e18_row7_col9\" class=\"data row7 col9\" >101</td>\n",
       "      <td id=\"T_52e18_row7_col10\" class=\"data row7 col10\" >223</td>\n",
       "      <td id=\"T_52e18_row7_col11\" class=\"data row7 col11\" >253</td>\n",
       "      <td id=\"T_52e18_row7_col12\" class=\"data row7 col12\" >248</td>\n",
       "      <td id=\"T_52e18_row7_col13\" class=\"data row7 col13\" >124</td>\n",
       "      <td id=\"T_52e18_row7_col14\" class=\"data row7 col14\" >0</td>\n",
       "      <td id=\"T_52e18_row7_col15\" class=\"data row7 col15\" >0</td>\n",
       "      <td id=\"T_52e18_row7_col16\" class=\"data row7 col16\" >0</td>\n",
       "      <td id=\"T_52e18_row7_col17\" class=\"data row7 col17\" >0</td>\n",
       "      <td id=\"T_52e18_row7_col18\" class=\"data row7 col18\" >0</td>\n",
       "    </tr>\n",
       "    <tr>\n",
       "      <th id=\"T_52e18_level0_row8\" class=\"row_heading level0 row8\" >8</th>\n",
       "      <td id=\"T_52e18_row8_col0\" class=\"data row8 col0\" >0</td>\n",
       "      <td id=\"T_52e18_row8_col1\" class=\"data row8 col1\" >0</td>\n",
       "      <td id=\"T_52e18_row8_col2\" class=\"data row8 col2\" >0</td>\n",
       "      <td id=\"T_52e18_row8_col3\" class=\"data row8 col3\" >0</td>\n",
       "      <td id=\"T_52e18_row8_col4\" class=\"data row8 col4\" >0</td>\n",
       "      <td id=\"T_52e18_row8_col5\" class=\"data row8 col5\" >0</td>\n",
       "      <td id=\"T_52e18_row8_col6\" class=\"data row8 col6\" >11</td>\n",
       "      <td id=\"T_52e18_row8_col7\" class=\"data row8 col7\" >166</td>\n",
       "      <td id=\"T_52e18_row8_col8\" class=\"data row8 col8\" >239</td>\n",
       "      <td id=\"T_52e18_row8_col9\" class=\"data row8 col9\" >253</td>\n",
       "      <td id=\"T_52e18_row8_col10\" class=\"data row8 col10\" >253</td>\n",
       "      <td id=\"T_52e18_row8_col11\" class=\"data row8 col11\" >253</td>\n",
       "      <td id=\"T_52e18_row8_col12\" class=\"data row8 col12\" >187</td>\n",
       "      <td id=\"T_52e18_row8_col13\" class=\"data row8 col13\" >30</td>\n",
       "      <td id=\"T_52e18_row8_col14\" class=\"data row8 col14\" >0</td>\n",
       "      <td id=\"T_52e18_row8_col15\" class=\"data row8 col15\" >0</td>\n",
       "      <td id=\"T_52e18_row8_col16\" class=\"data row8 col16\" >0</td>\n",
       "      <td id=\"T_52e18_row8_col17\" class=\"data row8 col17\" >0</td>\n",
       "      <td id=\"T_52e18_row8_col18\" class=\"data row8 col18\" >0</td>\n",
       "    </tr>\n",
       "    <tr>\n",
       "      <th id=\"T_52e18_level0_row9\" class=\"row_heading level0 row9\" >9</th>\n",
       "      <td id=\"T_52e18_row9_col0\" class=\"data row9 col0\" >0</td>\n",
       "      <td id=\"T_52e18_row9_col1\" class=\"data row9 col1\" >0</td>\n",
       "      <td id=\"T_52e18_row9_col2\" class=\"data row9 col2\" >0</td>\n",
       "      <td id=\"T_52e18_row9_col3\" class=\"data row9 col3\" >0</td>\n",
       "      <td id=\"T_52e18_row9_col4\" class=\"data row9 col4\" >0</td>\n",
       "      <td id=\"T_52e18_row9_col5\" class=\"data row9 col5\" >0</td>\n",
       "      <td id=\"T_52e18_row9_col6\" class=\"data row9 col6\" >16</td>\n",
       "      <td id=\"T_52e18_row9_col7\" class=\"data row9 col7\" >248</td>\n",
       "      <td id=\"T_52e18_row9_col8\" class=\"data row9 col8\" >250</td>\n",
       "      <td id=\"T_52e18_row9_col9\" class=\"data row9 col9\" >253</td>\n",
       "      <td id=\"T_52e18_row9_col10\" class=\"data row9 col10\" >253</td>\n",
       "      <td id=\"T_52e18_row9_col11\" class=\"data row9 col11\" >253</td>\n",
       "      <td id=\"T_52e18_row9_col12\" class=\"data row9 col12\" >253</td>\n",
       "      <td id=\"T_52e18_row9_col13\" class=\"data row9 col13\" >232</td>\n",
       "      <td id=\"T_52e18_row9_col14\" class=\"data row9 col14\" >213</td>\n",
       "      <td id=\"T_52e18_row9_col15\" class=\"data row9 col15\" >111</td>\n",
       "      <td id=\"T_52e18_row9_col16\" class=\"data row9 col16\" >2</td>\n",
       "      <td id=\"T_52e18_row9_col17\" class=\"data row9 col17\" >0</td>\n",
       "      <td id=\"T_52e18_row9_col18\" class=\"data row9 col18\" >0</td>\n",
       "    </tr>\n",
       "    <tr>\n",
       "      <th id=\"T_52e18_level0_row10\" class=\"row_heading level0 row10\" >10</th>\n",
       "      <td id=\"T_52e18_row10_col0\" class=\"data row10 col0\" >0</td>\n",
       "      <td id=\"T_52e18_row10_col1\" class=\"data row10 col1\" >0</td>\n",
       "      <td id=\"T_52e18_row10_col2\" class=\"data row10 col2\" >0</td>\n",
       "      <td id=\"T_52e18_row10_col3\" class=\"data row10 col3\" >0</td>\n",
       "      <td id=\"T_52e18_row10_col4\" class=\"data row10 col4\" >0</td>\n",
       "      <td id=\"T_52e18_row10_col5\" class=\"data row10 col5\" >0</td>\n",
       "      <td id=\"T_52e18_row10_col6\" class=\"data row10 col6\" >0</td>\n",
       "      <td id=\"T_52e18_row10_col7\" class=\"data row10 col7\" >0</td>\n",
       "      <td id=\"T_52e18_row10_col8\" class=\"data row10 col8\" >43</td>\n",
       "      <td id=\"T_52e18_row10_col9\" class=\"data row10 col9\" >98</td>\n",
       "      <td id=\"T_52e18_row10_col10\" class=\"data row10 col10\" >98</td>\n",
       "      <td id=\"T_52e18_row10_col11\" class=\"data row10 col11\" >208</td>\n",
       "      <td id=\"T_52e18_row10_col12\" class=\"data row10 col12\" >253</td>\n",
       "      <td id=\"T_52e18_row10_col13\" class=\"data row10 col13\" >253</td>\n",
       "      <td id=\"T_52e18_row10_col14\" class=\"data row10 col14\" >253</td>\n",
       "      <td id=\"T_52e18_row10_col15\" class=\"data row10 col15\" >253</td>\n",
       "      <td id=\"T_52e18_row10_col16\" class=\"data row10 col16\" >187</td>\n",
       "      <td id=\"T_52e18_row10_col17\" class=\"data row10 col17\" >22</td>\n",
       "      <td id=\"T_52e18_row10_col18\" class=\"data row10 col18\" >0</td>\n",
       "    </tr>\n",
       "  </tbody>\n",
       "</table>\n"
      ],
      "text/plain": [
       "<pandas.io.formats.style.Styler at 0x7f40b0911a90>"
      ]
     },
     "execution_count": 20,
     "metadata": {},
     "output_type": "execute_result"
    }
   ],
   "source": [
    "pd.DataFrame(tensor(im3)[4:15,3:22]).style.set_properties(**{'font-size':'6pt'}).background_gradient('Greys')"
   ]
  },
  {
   "cell_type": "markdown",
   "id": "8fae7afe",
   "metadata": {},
   "source": [
    "## Images as Tensor List\n",
    "1. Iterate through all paths of images 3/7\n",
    "2. open it as an images\n",
    "3. cast it to tensor\n",
    "4. Store it as list"
   ]
  },
  {
   "cell_type": "code",
   "execution_count": 21,
   "id": "15ecb36f",
   "metadata": {},
   "outputs": [],
   "source": [
    "sevens_list = [tensor(Image.open(o)) for o in sevens]\n",
    "threes_list = [tensor(Image.open(o)) for o in threes]"
   ]
  },
  {
   "cell_type": "code",
   "execution_count": 22,
   "id": "19ee0976",
   "metadata": {},
   "outputs": [
    {
     "data": {
      "text/plain": [
       "(list, torch.Tensor)"
      ]
     },
     "execution_count": 22,
     "metadata": {},
     "output_type": "execute_result"
    }
   ],
   "source": [
    "type(sevens_list), type(sevens_list[0])"
   ]
  },
  {
   "cell_type": "code",
   "execution_count": 23,
   "id": "2d04304b",
   "metadata": {},
   "outputs": [
    {
     "data": {
      "text/plain": [
       "<AxesSubplot:>"
      ]
     },
     "execution_count": 23,
     "metadata": {},
     "output_type": "execute_result"
    },
    {
     "data": {
      "image/png": "[encoded data removed]",
      "text/plain": [
       "<Figure size 72x72 with 1 Axes>"
      ]
     },
     "metadata": {
      "needs_background": "light"
     },
     "output_type": "display_data"
    }
   ],
   "source": [
    "show_image(sevens_list[0])"
   ]
  },
  {
   "cell_type": "markdown",
   "id": "d89f2d4c",
   "metadata": {},
   "source": [
    "## Lets Store it as Tensor Stack "
   ]
  },
  {
   "cell_type": "code",
   "execution_count": 24,
   "id": "a2c65fd8",
   "metadata": {},
   "outputs": [],
   "source": [
    "sevens_stack = torch.stack(sevens_list).float()/255\n",
    "threes_stack = torch.stack(threes_list).float()/255"
   ]
  },
  {
   "cell_type": "code",
   "execution_count": 25,
   "id": "a7d4440a",
   "metadata": {},
   "outputs": [
    {
     "data": {
      "text/plain": [
       "torch.Tensor"
      ]
     },
     "execution_count": 25,
     "metadata": {},
     "output_type": "execute_result"
    }
   ],
   "source": [
    "type(sevens_stack)"
   ]
  },
  {
   "cell_type": "markdown",
   "id": "673189db",
   "metadata": {},
   "source": [
    "## Compare the types above"
   ]
  },
  {
   "cell_type": "code",
   "execution_count": 26,
   "id": "246e5165",
   "metadata": {},
   "outputs": [
    {
     "data": {
      "text/plain": [
       "(list, torch.Tensor)"
      ]
     },
     "execution_count": 26,
     "metadata": {},
     "output_type": "execute_result"
    }
   ],
   "source": [
    "type(sevens_list), type(sevens_list[0])"
   ]
  },
  {
   "cell_type": "markdown",
   "id": "9ff9513d",
   "metadata": {},
   "source": [
    "## Put All things Together for Validation"
   ]
  },
  {
   "cell_type": "code",
   "execution_count": 27,
   "id": "104ae2ce",
   "metadata": {},
   "outputs": [
    {
     "data": {
      "text/plain": [
       "(torch.Size([1010, 28, 28]), torch.Size([1028, 28, 28]))"
      ]
     },
     "execution_count": 27,
     "metadata": {},
     "output_type": "execute_result"
    }
   ],
   "source": [
    "valid_3_tens = torch.stack([tensor(Image.open(o)) \n",
    "                            for o in (path/'valid'/'3').ls()])\n",
    "valid_3_tens = valid_3_tens.float()/255\n",
    "\n",
    "valid_7_tens = torch.stack([tensor(Image.open(o)) \n",
    "                            for o in (path/'valid'/'7').ls()])\n",
    "valid_7_tens = valid_7_tens.float()/255\n",
    "valid_3_tens.shape,valid_7_tens.shape"
   ]
  },
  {
   "cell_type": "markdown",
   "id": "8a5e018d",
   "metadata": {},
   "source": [
    "# Prepare Training Data"
   ]
  },
  {
   "cell_type": "code",
   "execution_count": 28,
   "id": "67c6e27d",
   "metadata": {},
   "outputs": [
    {
     "data": {
      "text/plain": [
       "(list, 2)"
      ]
     },
     "execution_count": 28,
     "metadata": {},
     "output_type": "execute_result"
    }
   ],
   "source": [
    "type([sevens_stack, threes_stack]) ,len([sevens_stack, threes_stack])"
   ]
  },
  {
   "cell_type": "markdown",
   "id": "4c1c5ac4",
   "metadata": {},
   "source": [
    "### Lets Reshape images to Dimenstion 1"
   ]
  },
  {
   "cell_type": "code",
   "execution_count": 29,
   "id": "0da779b2",
   "metadata": {},
   "outputs": [],
   "source": [
    "train_x = torch.cat([sevens_stack, threes_stack]).view(-1,28*28)"
   ]
  },
  {
   "cell_type": "code",
   "execution_count": 30,
   "id": "607814af",
   "metadata": {},
   "outputs": [
    {
     "data": {
      "text/plain": [
       "(torch.Tensor, torch.Tensor, torch.Size([12396, 784]))"
      ]
     },
     "execution_count": 30,
     "metadata": {},
     "output_type": "execute_result"
    }
   ],
   "source": [
    "type(train_x),type(train_x[0]), train_x.shape"
   ]
  },
  {
   "cell_type": "markdown",
   "id": "52e8497c",
   "metadata": {},
   "source": [
    "### Prepare Labels\n",
    "1. I want to have all sevens as 0\n",
    "2. all threes as 1\n",
    "3. with Unsequeeze I can have **Row vector** See what is row vector in google"
   ]
  },
  {
   "cell_type": "code",
   "execution_count": 31,
   "id": "b7b8bb78",
   "metadata": {},
   "outputs": [],
   "source": [
    "train_y = tensor([0]*len(sevens_stack) + [1]*len(threes_stack)).unsqueeze(1)"
   ]
  },
  {
   "cell_type": "markdown",
   "id": "3b1b346e",
   "metadata": {},
   "source": [
    "## Pytorch Data Set\n",
    "A `Dataset` in PyTorch is required to return a tuple of `(x,y)` when indexed. Python provides a `zip` function which, when combined with `list`, provides a simple way to get this functionality:"
   ]
  },
  {
   "cell_type": "code",
   "execution_count": 32,
   "id": "57341aa6",
   "metadata": {},
   "outputs": [],
   "source": [
    "dset = list(zip(train_x,train_y))"
   ]
  },
  {
   "cell_type": "code",
   "execution_count": 33,
   "id": "81018864",
   "metadata": {},
   "outputs": [],
   "source": [
    "x,y = dset[0]"
   ]
  },
  {
   "cell_type": "code",
   "execution_count": 34,
   "id": "3889dc6d",
   "metadata": {},
   "outputs": [
    {
     "data": {
      "text/plain": [
       "(torch.Size([784]), torch.Size([1]))"
      ]
     },
     "execution_count": 34,
     "metadata": {},
     "output_type": "execute_result"
    }
   ],
   "source": [
    "x.shape,y.shape"
   ]
  },
  {
   "cell_type": "markdown",
   "id": "d2bf9d94",
   "metadata": {},
   "source": [
    "## Prepare Testing Data\n",
    "Same as training data preperation"
   ]
  },
  {
   "cell_type": "code",
   "execution_count": 35,
   "id": "fe464792",
   "metadata": {},
   "outputs": [],
   "source": [
    "valid_x = torch.cat([valid_7_tens ,valid_3_tens]).view(-1,28*28)\n",
    "valid_y = tensor([0]*len(valid_7_tens )+ [1]* len(valid_3_tens)).unsqueeze(1)\n",
    "valid_dset=list(zip(valid_x,valid_y))"
   ]
  },
  {
   "cell_type": "code",
   "execution_count": 36,
   "id": "cd96b800",
   "metadata": {},
   "outputs": [
    {
     "data": {
      "text/plain": [
       "(torch.Size([2038, 784]), torch.Size([2038, 1]))"
      ]
     },
     "execution_count": 36,
     "metadata": {},
     "output_type": "execute_result"
    }
   ],
   "source": [
    "valid_x.shape,valid_y.shape"
   ]
  },
  {
   "cell_type": "markdown",
   "id": "42c9fd5e",
   "metadata": {},
   "source": [
    "## Data Loaders : Pytorch API\n",
    "Lets Explore what is it\n",
    "1. Lets see capability of batching -mini batch"
   ]
  },
  {
   "cell_type": "code",
   "execution_count": 37,
   "id": "5ebd7422",
   "metadata": {},
   "outputs": [],
   "source": [
    "dl = DataLoader(range(15), batch_size=5,shuffle=True)"
   ]
  },
  {
   "cell_type": "code",
   "execution_count": 38,
   "id": "cdf82e38",
   "metadata": {},
   "outputs": [
    {
     "data": {
      "text/plain": [
       "[tensor([ 3, 12,  8, 10,  2]),\n",
       " tensor([ 9,  4,  7, 14,  5]),\n",
       " tensor([ 1, 13,  0,  6, 11])]"
      ]
     },
     "execution_count": 38,
     "metadata": {},
     "output_type": "execute_result"
    }
   ],
   "source": [
    "list(dl)"
   ]
  },
  {
   "cell_type": "code",
   "execution_count": 39,
   "id": "7c8a4f9a",
   "metadata": {},
   "outputs": [],
   "source": [
    "ds=DataLoader(L(enumerate(string.ascii_lowercase)), batch_size=5, shuffle=True)"
   ]
  },
  {
   "cell_type": "code",
   "execution_count": 40,
   "id": "462ec03a",
   "metadata": {},
   "outputs": [
    {
     "data": {
      "text/plain": [
       "[(tensor([17, 18, 10, 22,  8]), ('r', 's', 'k', 'w', 'i')),\n",
       " (tensor([14, 20, 15,  9, 13]), ('o', 'u', 'p', 'j', 'n')),\n",
       " (tensor([21, 12,  7, 25,  6]), ('v', 'm', 'h', 'z', 'g')),\n",
       " (tensor([ 5, 11, 23,  1,  3]), ('f', 'l', 'x', 'b', 'd')),\n",
       " (tensor([ 0, 24, 19, 16,  2]), ('a', 'y', 't', 'q', 'c')),\n",
       " (tensor([4]), ('e',))]"
      ]
     },
     "execution_count": 40,
     "metadata": {},
     "output_type": "execute_result"
    }
   ],
   "source": [
    "list(ds)"
   ]
  },
  {
   "cell_type": "markdown",
   "id": "7b524045",
   "metadata": {},
   "source": [
    "## DataLoaders\n",
    "A DataLoader can be created from a Dataset"
   ]
  },
  {
   "cell_type": "code",
   "execution_count": 41,
   "id": "eac49836",
   "metadata": {},
   "outputs": [],
   "source": [
    "dl = DataLoader(dset, batch_size=256,shuffle=True)\n",
    "xb, yb = first(dl)"
   ]
  },
  {
   "cell_type": "code",
   "execution_count": 42,
   "id": "53059b7d",
   "metadata": {},
   "outputs": [
    {
     "data": {
      "text/plain": [
       "(torch.Size([256, 784]), torch.Size([256, 1]))"
      ]
     },
     "execution_count": 42,
     "metadata": {},
     "output_type": "execute_result"
    }
   ],
   "source": [
    "xb.shape, yb.shape"
   ]
  },
  {
   "cell_type": "code",
   "execution_count": 43,
   "id": "776bbe49",
   "metadata": {},
   "outputs": [
    {
     "data": {
      "text/plain": [
       "(list, 2)"
      ]
     },
     "execution_count": 43,
     "metadata": {},
     "output_type": "execute_result"
    }
   ],
   "source": [
    "#iter(dl)\n",
    "type(valid_dset),len(valid_dset[0])"
   ]
  },
  {
   "cell_type": "code",
   "execution_count": 44,
   "id": "b4eebef9",
   "metadata": {},
   "outputs": [],
   "source": [
    "valid_dl = DataLoader(valid_dset, batch_size=256,shuffle=True)\n",
    "v_xb, v_yb = first(valid_dl)"
   ]
  },
  {
   "cell_type": "markdown",
   "id": "baa3b343",
   "metadata": {},
   "source": [
    "## Initialise Parameters\n",
    "1. Lets create a function pass parameters to which we require gradient\n",
    "2. weights and biases are are to be initialise\n"
   ]
  },
  {
   "cell_type": "code",
   "execution_count": 45,
   "id": "f227f803",
   "metadata": {},
   "outputs": [],
   "source": [
    "def init_params(size,std=1.0): return (torch.randn(size)*std).requires_grad_()"
   ]
  },
  {
   "cell_type": "code",
   "execution_count": 46,
   "id": "c56bb954",
   "metadata": {},
   "outputs": [],
   "source": [
    "weights = init_params((28*28,1))"
   ]
  },
  {
   "cell_type": "code",
   "execution_count": 47,
   "id": "8f14b142",
   "metadata": {},
   "outputs": [],
   "source": [
    "bias = init_params(1)"
   ]
  },
  {
   "cell_type": "markdown",
   "id": "857bb5f0",
   "metadata": {},
   "source": [
    "## Forward Pass\n",
    "matrix multiplication plus bias"
   ]
  },
  {
   "cell_type": "code",
   "execution_count": 48,
   "id": "87d5b673",
   "metadata": {},
   "outputs": [],
   "source": [
    "def linear1(x): return x@weights +bias\n",
    "    "
   ]
  },
  {
   "cell_type": "markdown",
   "id": "2b3dcc90",
   "metadata": {},
   "source": [
    "# First Batch\n",
    "Lets look at this\n",
    "First function take a first minibatch created by data loaders"
   ]
  },
  {
   "cell_type": "code",
   "execution_count": 49,
   "id": "72d96d5b",
   "metadata": {},
   "outputs": [],
   "source": [
    "xb, yb = first(dl)"
   ]
  },
  {
   "cell_type": "code",
   "execution_count": 50,
   "id": "2f840ace",
   "metadata": {},
   "outputs": [],
   "source": [
    "preds = linear1(train_x)"
   ]
  },
  {
   "cell_type": "code",
   "execution_count": 51,
   "id": "b367d3cf",
   "metadata": {},
   "outputs": [],
   "source": [
    "preds=linear1(xb)"
   ]
  },
  {
   "cell_type": "code",
   "execution_count": 52,
   "id": "b85e74f4",
   "metadata": {},
   "outputs": [
    {
     "data": {
      "text/plain": [
       "(torch.Size([256, 1]), torch.Size([12396, 1]))"
      ]
     },
     "execution_count": 52,
     "metadata": {},
     "output_type": "execute_result"
    }
   ],
   "source": [
    "yb.shape,train_y.shape"
   ]
  },
  {
   "cell_type": "code",
   "execution_count": 53,
   "id": "fc4d21d1",
   "metadata": {},
   "outputs": [
    {
     "data": {
      "text/plain": [
       "tensor([[0],\n",
       "        [0],\n",
       "        [0],\n",
       "        ...,\n",
       "        [1],\n",
       "        [1],\n",
       "        [1]])"
      ]
     },
     "execution_count": 53,
     "metadata": {},
     "output_type": "execute_result"
    }
   ],
   "source": [
    "train_y"
   ]
  },
  {
   "cell_type": "code",
   "execution_count": 54,
   "id": "ee3766d7",
   "metadata": {},
   "outputs": [
    {
     "data": {
      "text/plain": [
       "tensor([[0],\n",
       "        [0],\n",
       "        [1],\n",
       "        [1],\n",
       "        [0],\n",
       "        [1],\n",
       "        [0],\n",
       "        [1],\n",
       "        [0],\n",
       "        [0],\n",
       "        [0],\n",
       "        [1],\n",
       "        [0],\n",
       "        [1],\n",
       "        [1],\n",
       "        [1],\n",
       "        [0],\n",
       "        [1],\n",
       "        [0],\n",
       "        [1],\n",
       "        [0],\n",
       "        [1],\n",
       "        [0],\n",
       "        [0],\n",
       "        [1],\n",
       "        [0],\n",
       "        [0],\n",
       "        [0],\n",
       "        [1],\n",
       "        [0],\n",
       "        [1],\n",
       "        [1],\n",
       "        [0],\n",
       "        [1],\n",
       "        [0],\n",
       "        [1],\n",
       "        [1],\n",
       "        [0],\n",
       "        [1],\n",
       "        [0],\n",
       "        [0],\n",
       "        [0],\n",
       "        [0],\n",
       "        [1],\n",
       "        [0],\n",
       "        [1],\n",
       "        [0],\n",
       "        [0],\n",
       "        [0],\n",
       "        [0],\n",
       "        [1],\n",
       "        [1],\n",
       "        [1],\n",
       "        [1],\n",
       "        [0],\n",
       "        [0],\n",
       "        [1],\n",
       "        [0],\n",
       "        [0],\n",
       "        [0],\n",
       "        [1],\n",
       "        [1],\n",
       "        [0],\n",
       "        [1],\n",
       "        [1],\n",
       "        [0],\n",
       "        [0],\n",
       "        [0],\n",
       "        [1],\n",
       "        [0],\n",
       "        [0],\n",
       "        [0],\n",
       "        [0],\n",
       "        [0],\n",
       "        [1],\n",
       "        [1],\n",
       "        [0],\n",
       "        [0],\n",
       "        [1],\n",
       "        [1],\n",
       "        [0],\n",
       "        [1],\n",
       "        [0],\n",
       "        [0],\n",
       "        [0],\n",
       "        [0],\n",
       "        [0],\n",
       "        [1],\n",
       "        [1],\n",
       "        [0],\n",
       "        [1],\n",
       "        [1],\n",
       "        [0],\n",
       "        [0],\n",
       "        [0],\n",
       "        [0],\n",
       "        [1],\n",
       "        [0],\n",
       "        [0],\n",
       "        [1],\n",
       "        [0],\n",
       "        [1],\n",
       "        [0],\n",
       "        [1],\n",
       "        [1],\n",
       "        [0],\n",
       "        [1],\n",
       "        [1],\n",
       "        [1],\n",
       "        [1],\n",
       "        [0],\n",
       "        [1],\n",
       "        [1],\n",
       "        [0],\n",
       "        [1],\n",
       "        [0],\n",
       "        [1],\n",
       "        [0],\n",
       "        [0],\n",
       "        [1],\n",
       "        [1],\n",
       "        [0],\n",
       "        [1],\n",
       "        [0],\n",
       "        [1],\n",
       "        [1],\n",
       "        [1],\n",
       "        [0],\n",
       "        [1],\n",
       "        [0],\n",
       "        [1],\n",
       "        [0],\n",
       "        [0],\n",
       "        [1],\n",
       "        [1],\n",
       "        [0],\n",
       "        [1],\n",
       "        [1],\n",
       "        [1],\n",
       "        [0],\n",
       "        [1],\n",
       "        [0],\n",
       "        [0],\n",
       "        [0],\n",
       "        [1],\n",
       "        [0],\n",
       "        [0],\n",
       "        [1],\n",
       "        [0],\n",
       "        [1],\n",
       "        [1],\n",
       "        [1],\n",
       "        [1],\n",
       "        [0],\n",
       "        [1],\n",
       "        [1],\n",
       "        [0],\n",
       "        [1],\n",
       "        [1],\n",
       "        [0],\n",
       "        [1],\n",
       "        [0],\n",
       "        [1],\n",
       "        [0],\n",
       "        [1],\n",
       "        [1],\n",
       "        [0],\n",
       "        [0],\n",
       "        [1],\n",
       "        [1],\n",
       "        [0],\n",
       "        [0],\n",
       "        [1],\n",
       "        [1],\n",
       "        [0],\n",
       "        [1],\n",
       "        [0],\n",
       "        [0],\n",
       "        [0],\n",
       "        [1],\n",
       "        [1],\n",
       "        [0],\n",
       "        [0],\n",
       "        [0],\n",
       "        [1],\n",
       "        [0],\n",
       "        [0],\n",
       "        [0],\n",
       "        [0],\n",
       "        [1],\n",
       "        [1],\n",
       "        [0],\n",
       "        [1],\n",
       "        [1],\n",
       "        [0],\n",
       "        [1],\n",
       "        [1],\n",
       "        [1],\n",
       "        [1],\n",
       "        [0],\n",
       "        [1],\n",
       "        [1],\n",
       "        [1],\n",
       "        [1],\n",
       "        [1],\n",
       "        [1],\n",
       "        [0],\n",
       "        [0],\n",
       "        [1],\n",
       "        [0],\n",
       "        [0],\n",
       "        [0],\n",
       "        [1],\n",
       "        [0],\n",
       "        [0],\n",
       "        [0],\n",
       "        [1],\n",
       "        [0],\n",
       "        [1],\n",
       "        [1],\n",
       "        [0],\n",
       "        [1],\n",
       "        [0],\n",
       "        [0],\n",
       "        [0],\n",
       "        [0],\n",
       "        [0],\n",
       "        [1],\n",
       "        [0],\n",
       "        [0],\n",
       "        [0],\n",
       "        [0],\n",
       "        [0],\n",
       "        [0],\n",
       "        [1],\n",
       "        [1],\n",
       "        [0],\n",
       "        [1],\n",
       "        [1],\n",
       "        [0],\n",
       "        [0],\n",
       "        [1],\n",
       "        [1],\n",
       "        [0],\n",
       "        [1],\n",
       "        [1],\n",
       "        [0],\n",
       "        [1],\n",
       "        [0],\n",
       "        [0],\n",
       "        [1],\n",
       "        [0],\n",
       "        [0],\n",
       "        [1],\n",
       "        [0],\n",
       "        [0]])"
      ]
     },
     "execution_count": 54,
     "metadata": {},
     "output_type": "execute_result"
    }
   ],
   "source": [
    "#collapse-output\n",
    "yb"
   ]
  },
  {
   "cell_type": "markdown",
   "id": "28df1627",
   "metadata": {},
   "source": [
    "## Step Function as an Activation\n",
    "\n",
    "Here we have step function as activation\n",
    "**Predictions which are greater than 0.5 are considered one class another is second**"
   ]
  },
  {
   "cell_type": "code",
   "execution_count": 55,
   "id": "43145a26",
   "metadata": {},
   "outputs": [],
   "source": [
    "corrects =(preds>0.5).float() == yb"
   ]
  },
  {
   "cell_type": "code",
   "execution_count": 56,
   "id": "769916ee",
   "metadata": {},
   "outputs": [],
   "source": [
    "#corrects"
   ]
  },
  {
   "cell_type": "code",
   "execution_count": 57,
   "id": "a6c495cd",
   "metadata": {},
   "outputs": [
    {
     "data": {
      "text/plain": [
       "0.40625"
      ]
     },
     "execution_count": 57,
     "metadata": {},
     "output_type": "execute_result"
    }
   ],
   "source": [
    "corrects.float().mean().item()"
   ]
  },
  {
   "cell_type": "markdown",
   "id": "00588123",
   "metadata": {},
   "source": [
    "## Loss Calculations\n",
    "\n",
    "since we want to restrict our prediction to range [0-1] as we have labels 0 for seven class and 1 for three class"
   ]
  },
  {
   "cell_type": "code",
   "execution_count": 58,
   "id": "a86d1091",
   "metadata": {},
   "outputs": [],
   "source": [
    "def mnist_loss(predictions,targets):\n",
    "    predictions = predictions.sigmoid()\n",
    "    return torch.where(targets==1, (1-predictions), predictions).mean()"
   ]
  },
  {
   "cell_type": "code",
   "execution_count": 59,
   "id": "7ffd5ea2",
   "metadata": {},
   "outputs": [],
   "source": [
    "loss = mnist_loss(corrects,yb)"
   ]
  },
  {
   "cell_type": "markdown",
   "id": "6cc55be8",
   "metadata": {},
   "source": [
    "## Claculate Gradient\n",
    "1. take predictions\n",
    "2. calculate loss\n",
    "3. derivative of loss w.r.t parameters : weights and bias"
   ]
  },
  {
   "cell_type": "code",
   "execution_count": 60,
   "id": "19719683",
   "metadata": {},
   "outputs": [],
   "source": [
    "def calc_grad(x,y,model):\n",
    "    preds = model(x)\n",
    "    loss = mnist_loss(preds,y)\n",
    "    loss.backward()\n",
    "    "
   ]
  },
  {
   "cell_type": "code",
   "execution_count": 61,
   "id": "d1118159",
   "metadata": {},
   "outputs": [],
   "source": [
    "calc_grad(xb,yb,linear1)"
   ]
  },
  {
   "cell_type": "code",
   "execution_count": 62,
   "id": "d517f1df",
   "metadata": {},
   "outputs": [
    {
     "data": {
      "text/plain": [
       "(torch.Size([784, 1]), tensor(-0.0013), tensor([-0.0049]))"
      ]
     },
     "execution_count": 62,
     "metadata": {},
     "output_type": "execute_result"
    }
   ],
   "source": [
    "weights.grad.shape,weights.grad.mean(),bias.grad"
   ]
  },
  {
   "cell_type": "markdown",
   "id": "bedfdebf",
   "metadata": {},
   "source": [
    "## Why Grad_zero_?\n",
    "\n",
    "Our only remaining step is to update the weights and biases based on the gradient and learning rate. When we do so, we have to tell PyTorch not to take the gradient of this step too—otherwise things will get very confusing when we try to compute the derivative at the next batch! If we assign to the data attribute of a tensor then PyTorch will not take the gradient of that step. Here's our basic training loop for an epoch"
   ]
  },
  {
   "cell_type": "code",
   "execution_count": 63,
   "id": "9e93b3f5",
   "metadata": {},
   "outputs": [],
   "source": [
    "weights.grad.zero_(),bias.grad.zero_();"
   ]
  },
  {
   "cell_type": "code",
   "execution_count": 64,
   "id": "1c839f7f",
   "metadata": {},
   "outputs": [],
   "source": [
    "def train_epoch(model,lr,params):\n",
    "    for x,y in dl:\n",
    "        calc_grad(x,y,model)\n",
    "        for p in params:\n",
    "            p.data -= p.grad*lr\n",
    "            p.grad.zero_()"
   ]
  },
  {
   "cell_type": "markdown",
   "id": "2b5e0f3f",
   "metadata": {},
   "source": [
    "batch accuracy used to evaluate model"
   ]
  },
  {
   "cell_type": "code",
   "execution_count": 65,
   "id": "70cd269b",
   "metadata": {},
   "outputs": [],
   "source": [
    "def batch_accuracy(xb, yb):\n",
    "    preds = xb.sigmoid()\n",
    "    correct = (preds>0.5) == yb\n",
    "    return correct.float().mean()"
   ]
  },
  {
   "cell_type": "code",
   "execution_count": 66,
   "id": "849c56f2",
   "metadata": {},
   "outputs": [
    {
     "data": {
      "text/plain": [
       "tensor(0.4102)"
      ]
     },
     "execution_count": 66,
     "metadata": {},
     "output_type": "execute_result"
    }
   ],
   "source": [
    "batch_accuracy(linear1(xb), yb)"
   ]
  },
  {
   "cell_type": "code",
   "execution_count": 67,
   "id": "6f55a66a",
   "metadata": {},
   "outputs": [],
   "source": [
    "def validate_epoch(model):\n",
    "    accs = [batch_accuracy(model(v_xb), v_yb) for v_xb,v_yb in valid_dl]\n",
    "    return round(torch.stack(accs).mean().item(), 4)"
   ]
  },
  {
   "cell_type": "code",
   "execution_count": 68,
   "id": "5eae5eed",
   "metadata": {},
   "outputs": [
    {
     "data": {
      "text/plain": [
       "0.4655"
      ]
     },
     "execution_count": 68,
     "metadata": {},
     "output_type": "execute_result"
    }
   ],
   "source": [
    "validate_epoch(linear1)"
   ]
  },
  {
   "cell_type": "markdown",
   "id": "7a107bc1",
   "metadata": {},
   "source": [
    "## Lets Start out Training\n",
    "1. learning rate here 10 to power -1\n",
    "2. validate used to evaluate model on validation data"
   ]
  },
  {
   "cell_type": "code",
   "execution_count": 69,
   "id": "cd5cb975",
   "metadata": {},
   "outputs": [
    {
     "data": {
      "text/plain": [
       "0.5633"
      ]
     },
     "execution_count": 69,
     "metadata": {},
     "output_type": "execute_result"
    }
   ],
   "source": [
    "lr = 1e-1\n",
    "params = weights,bias\n",
    "train_epoch(linear1, lr, params)\n",
    "validate_epoch(linear1)"
   ]
  },
  {
   "cell_type": "code",
   "execution_count": 70,
   "id": "50367363",
   "metadata": {},
   "outputs": [
    {
     "name": "stdout",
     "output_type": "stream",
     "text": [
      "0.7051 0.7993 0.8414 0.8735 0.8907 0.9004 0.9122 0.9205 0.9275 0.9319 0.9362 0.9367 0.9373 0.9396 0.9417 0.9431 0.9445 0.9445 0.9465 0.9466 0.9494 0.9499 0.9509 0.9519 0.9545 0.9559 0.9559 0.9559 0.9564 0.9572 0.9587 0.9588 0.9597 0.9607 0.9608 0.9627 0.9627 0.9632 0.9637 0.9642 0.9642 0.9641 0.9646 0.9647 0.9651 0.9657 0.9656 0.9661 0.9657 0.9661 0.9667 0.9667 0.9667 0.9666 0.9676 0.9675 0.9676 0.9681 0.9686 0.9686 0.9686 0.9691 0.9692 0.9691 0.969 0.9695 0.9695 0.97 0.9701 0.9701 0.97 0.9701 0.9701 0.9701 0.971 0.9711 0.9716 0.9715 0.9721 0.972 0.972 0.9726 0.9726 0.9725 0.9726 0.9726 0.9725 0.9725 0.9725 0.9726 0.9726 0.9723 0.9725 0.9736 0.9735 0.974 0.974 0.974 0.9745 0.9745 0.9745 0.9745 0.9749 0.975 0.975 0.975 0.975 0.975 0.975 0.975 0.975 0.975 0.975 0.9749 0.975 0.975 0.975 0.975 0.975 0.975 0.975 0.975 0.9754 0.9754 0.9755 0.9754 0.9755 0.9754 0.9755 0.9755 0.976 0.9765 0.9765 0.9765 0.9765 0.9764 0.9765 0.9764 0.9764 0.9764 0.9765 0.9765 0.9765 0.9764 0.9765 0.9765 0.9764 0.9765 0.9765 0.9764 0.9764 0.9764 0.9765 0.9763 0.9764 0.9764 0.9764 0.9764 0.9765 0.9765 0.9765 0.9765 0.9765 0.9764 0.9764 0.9765 0.9765 0.9764 0.9765 0.9765 0.9765 0.9765 0.9765 0.9764 0.9765 0.9765 0.9769 0.977 0.977 0.9769 0.977 0.977 0.977 0.977 0.9769 0.977 0.977 0.9769 0.977 0.9769 0.977 0.9775 0.9774 0.9775 0.9775 0.9774 0.9774 0.9773 0.9774 0.9774 0.9775 0.9774 0.9775 0.9773 0.9774 0.9774 0.9774 0.9775 0.9775 0.9774 0.9774 0.9774 0.9774 0.9774 0.9774 0.9774 0.9775 0.9775 0.9774 0.9774 0.9775 0.9779 0.9779 0.9778 0.9779 0.9779 0.9778 0.9779 0.9779 0.9779 0.9779 0.9784 0.9784 0.9785 0.9784 0.9784 0.9784 0.9784 0.9785 0.9783 0.9783 0.9784 0.9789 0.9789 0.9789 0.9789 0.9789 0.9789 0.979 0.9788 0.979 0.9789 0.9789 0.9789 0.9789 0.9789 0.9789 0.979 0.9789 0.9789 0.9789 0.9789 0.9789 0.9788 0.979 0.9789 0.9789 0.9789 0.9788 0.9788 0.979 0.9789 0.979 0.9789 0.9789 0.9789 0.9788 0.9789 0.9789 0.9794 0.9794 0.9793 0.9795 0.9794 0.9794 0.9793 0.9794 0.9794 0.9794 0.9795 0.9795 0.9794 0.9794 0.9794 0.9794 0.9794 0.9794 0.9794 0.9794 0.9799 0.9798 0.9799 0.9798 0.98 0.9799 0.9799 0.9799 0.9798 0.9799 0.9798 0.9799 0.9799 0.9799 0.9798 0.9799 0.9799 0.9799 0.9799 0.9799 0.9798 0.9799 0.9799 0.9799 0.9799 0.9799 0.9799 0.9799 0.9799 0.9799 0.9799 0.9799 0.9798 0.9798 0.9799 0.9798 0.9799 0.9799 0.9799 0.9799 0.9798 0.9799 0.9799 0.9799 0.9799 0.9798 0.9799 0.9799 0.9798 0.9799 0.9799 0.9799 0.9799 0.9799 0.9798 0.9799 0.9799 0.9799 0.9798 0.9799 0.9798 0.9799 0.9799 0.9799 0.9799 0.9798 0.9799 0.9799 0.9798 0.9799 0.9798 0.9799 0.9799 0.9799 0.9798 0.9798 0.9799 0.9799 0.9799 0.9799 0.9803 0.9804 0.9803 0.9804 0.9803 0.9804 0.9804 0.9804 0.9804 0.9804 0.9804 0.9804 0.9804 0.9804 0.9803 0.9803 0.9803 0.9804 0.9804 0.9804 0.9804 "
     ]
    }
   ],
   "source": [
    "#collapse-output\n",
    "for i in range(400):\n",
    "    train_epoch(linear1, lr, params)\n",
    "    print(validate_epoch(linear1), end=' ')"
   ]
  },
  {
   "cell_type": "markdown",
   "id": "8dc7d731",
   "metadata": {},
   "source": [
    "## Using Python Class\n",
    "\n",
    "Using same 'nn.linear' module inherits object pytorch class 'nn.Linear'\n",
    "\n",
    "nn.Linear does the same thing as our **init_params** and **linear** together. It contains both the weights and biases in a single class. Here's how we replicate our model from the previous section:"
   ]
  },
  {
   "cell_type": "code",
   "execution_count": 86,
   "id": "5fa3a138",
   "metadata": {},
   "outputs": [],
   "source": [
    "linear_model =nn.Linear(28*28,1)"
   ]
  },
  {
   "cell_type": "code",
   "execution_count": 87,
   "id": "37de3915",
   "metadata": {},
   "outputs": [
    {
     "data": {
      "text/plain": [
       "(torch.Size([1, 784]), torch.Size([1]))"
      ]
     },
     "execution_count": 87,
     "metadata": {},
     "output_type": "execute_result"
    }
   ],
   "source": [
    "w,b = linear_model.parameters()\n",
    "w.shape, b.shape"
   ]
  },
  {
   "cell_type": "code",
   "execution_count": 88,
   "id": "c9e43613",
   "metadata": {},
   "outputs": [],
   "source": [
    "class BasicOpt:\n",
    "    #class contains two attributes params=weights,bias and learning rate\n",
    "    # get all the parameters\n",
    "    def __init__(self, params,lr): self.params, self.lr = list(params),lr\n",
    "    # gradient\n",
    "    def step(self, *args, **kwargs): \n",
    "        for p in self.params:\n",
    "            p.data -= p.grad.data * self.lr\n",
    "    # zero grad\n",
    "    def zero_grad(self, *args , **kwargs):\n",
    "        for p in self.params:\n",
    "            p.grad = None"
   ]
  },
  {
   "cell_type": "code",
   "execution_count": 89,
   "id": "520efe82",
   "metadata": {},
   "outputs": [],
   "source": [
    "opt = BasicOpt(linear_model.parameters(), lr=1e-1)"
   ]
  },
  {
   "cell_type": "code",
   "execution_count": 94,
   "id": "1021d58b",
   "metadata": {},
   "outputs": [],
   "source": [
    "def train_epoch(model):\n",
    "    for x,y in dl:\n",
    "        calc_grad(x,y,model)\n",
    "        opt.step()\n",
    "        opt.zero_grad()"
   ]
  },
  {
   "cell_type": "code",
   "execution_count": 95,
   "id": "6afb3d6e",
   "metadata": {},
   "outputs": [
    {
     "data": {
      "text/plain": [
       "0.6556"
      ]
     },
     "execution_count": 95,
     "metadata": {},
     "output_type": "execute_result"
    }
   ],
   "source": [
    "validate_epoch(linear_model)"
   ]
  },
  {
   "cell_type": "code",
   "execution_count": 96,
   "id": "6beeb995",
   "metadata": {},
   "outputs": [],
   "source": [
    "def train_model(model,epochs):\n",
    "    for i in range(epochs):\n",
    "        train_epoch(model)\n",
    "        print(validate_epoch(linear_model),end=\" \" )"
   ]
  },
  {
   "cell_type": "code",
   "execution_count": 97,
   "id": "193a8551",
   "metadata": {},
   "outputs": [
    {
     "name": "stdout",
     "output_type": "stream",
     "text": [
      "0.9657 0.9672 0.9676 0.9686 0.9695 0.9706 0.9706 0.9711 0.9716 0.972 "
     ]
    }
   ],
   "source": [
    "train_model(model=linear_model, epochs = 10)"
   ]
  },
  {
   "cell_type": "code",
   "execution_count": 98,
   "id": "3da41b5f",
   "metadata": {},
   "outputs": [
    {
     "name": "stdout",
     "output_type": "stream",
     "text": [
      "0.9651 0.9657 0.9687 0.9701 0.9695 0.9705 0.9706 0.971 0.9721 0.973 0.9729 0.973 0.973 0.974 0.9745 0.975 0.9755 0.9754 0.9754 0.9754 "
     ]
    }
   ],
   "source": [
    "linear_model = nn.Linear(28*28,1)\n",
    "opt = SGD(linear_model.parameters(), lr =1e-1)\n",
    "train_model(linear_model,20)"
   ]
  },
  {
   "cell_type": "code",
   "execution_count": null,
   "id": "cfbe737b",
   "metadata": {},
   "outputs": [],
   "source": []
  },
  {
   "cell_type": "code",
   "execution_count": 86,
   "id": "57c6fb42",
   "metadata": {},
   "outputs": [],
   "source": [
    "dls = DataLoaders(dl, valid_dl)"
   ]
  },
  {
   "cell_type": "markdown",
   "id": "5c105130",
   "metadata": {},
   "source": [
    "To create a `Learner` without using an application (such as `cnn_learner`) we need to pass in all the elements that we've created in this chapter: the `DataLoaders`, the model, the optimization function (which will be passed the parameters), the loss function, and optionally any metrics to print:"
   ]
  },
  {
   "cell_type": "code",
   "execution_count": 87,
   "id": "df8562e7",
   "metadata": {},
   "outputs": [],
   "source": [
    "learn = Learner(dls, nn.Linear(28*28,1), opt_func=SGD,\n",
    "                loss_func=mnist_loss, metrics=batch_accuracy)"
   ]
  },
  {
   "cell_type": "markdown",
   "id": "7ce89354",
   "metadata": {},
   "source": [
    "Now we can call `fit`:"
   ]
  },
  {
   "cell_type": "code",
   "execution_count": 88,
   "id": "15abfea2",
   "metadata": {},
   "outputs": [
    {
     "data": {
      "text/html": [
       "<table border=\"1\" class=\"dataframe\">\n",
       "  <thead>\n",
       "    <tr style=\"text-align: left;\">\n",
       "      <th>epoch</th>\n",
       "      <th>train_loss</th>\n",
       "      <th>valid_loss</th>\n",
       "      <th>batch_accuracy</th>\n",
       "      <th>time</th>\n",
       "    </tr>\n",
       "  </thead>\n",
       "  <tbody>\n",
       "    <tr>\n",
       "      <td>0</td>\n",
       "      <td>0.154314</td>\n",
       "      <td>0.093394</td>\n",
       "      <td>0.967125</td>\n",
       "      <td>00:00</td>\n",
       "    </tr>\n",
       "    <tr>\n",
       "      <td>1</td>\n",
       "      <td>0.097860</td>\n",
       "      <td>0.069815</td>\n",
       "      <td>0.967615</td>\n",
       "      <td>00:00</td>\n",
       "    </tr>\n",
       "    <tr>\n",
       "      <td>2</td>\n",
       "      <td>0.074141</td>\n",
       "      <td>0.059789</td>\n",
       "      <td>0.969578</td>\n",
       "      <td>00:00</td>\n",
       "    </tr>\n",
       "    <tr>\n",
       "      <td>3</td>\n",
       "      <td>0.062189</td>\n",
       "      <td>0.054248</td>\n",
       "      <td>0.970069</td>\n",
       "      <td>00:00</td>\n",
       "    </tr>\n",
       "    <tr>\n",
       "      <td>4</td>\n",
       "      <td>0.054846</td>\n",
       "      <td>0.050518</td>\n",
       "      <td>0.970069</td>\n",
       "      <td>00:00</td>\n",
       "    </tr>\n",
       "    <tr>\n",
       "      <td>5</td>\n",
       "      <td>0.049594</td>\n",
       "      <td>0.047826</td>\n",
       "      <td>0.970559</td>\n",
       "      <td>00:00</td>\n",
       "    </tr>\n",
       "    <tr>\n",
       "      <td>6</td>\n",
       "      <td>0.045887</td>\n",
       "      <td>0.045634</td>\n",
       "      <td>0.970559</td>\n",
       "      <td>00:00</td>\n",
       "    </tr>\n",
       "    <tr>\n",
       "      <td>7</td>\n",
       "      <td>0.043330</td>\n",
       "      <td>0.044017</td>\n",
       "      <td>0.970559</td>\n",
       "      <td>00:00</td>\n",
       "    </tr>\n",
       "    <tr>\n",
       "      <td>8</td>\n",
       "      <td>0.041645</td>\n",
       "      <td>0.042539</td>\n",
       "      <td>0.972031</td>\n",
       "      <td>00:00</td>\n",
       "    </tr>\n",
       "    <tr>\n",
       "      <td>9</td>\n",
       "      <td>0.039802</td>\n",
       "      <td>0.041379</td>\n",
       "      <td>0.972031</td>\n",
       "      <td>00:00</td>\n",
       "    </tr>\n",
       "  </tbody>\n",
       "</table>"
      ],
      "text/plain": [
       "<IPython.core.display.HTML object>"
      ]
     },
     "metadata": {},
     "output_type": "display_data"
    }
   ],
   "source": [
    "learn.fit(10, lr=lr)"
   ]
  },
  {
   "cell_type": "code",
   "execution_count": null,
   "id": "3d0932a3",
   "metadata": {},
   "outputs": [],
   "source": []
  }
 ],
 "metadata": {
  "kernelspec": {
   "display_name": "Python 3",
   "language": "python",
   "name": "python3"
  },
  "language_info": {
   "codemirror_mode": {
    "name": "ipython",
    "version": 3
   },
   "file_extension": ".py",
   "mimetype": "text/x-python",
   "name": "python",
   "nbconvert_exporter": "python",
   "pygments_lexer": "ipython3",
   "version": "3.8.2"
  }
 },
 "nbformat": 4,
 "nbformat_minor": 5
}
